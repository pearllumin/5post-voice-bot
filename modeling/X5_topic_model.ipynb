{
  "cells": [
    {
      "cell_type": "code",
      "execution_count": null,
      "id": "1Gk7NOgiEFFT",
      "metadata": {
        "colab": {
          "base_uri": "https://localhost:8080/"
        },
        "id": "1Gk7NOgiEFFT",
        "outputId": "158f5b04-f62a-4fd5-e90c-2b0599790ded"
      },
      "outputs": [
        {
          "output_type": "stream",
          "name": "stdout",
          "text": [
            "Collecting pymorphy2\n",
            "  Downloading pymorphy2-0.9.1-py3-none-any.whl (55 kB)\n",
            "\u001b[2K     \u001b[90m━━━━━━━━━━━━━━━━━━━━━━━━━━━━━━━━━━━━━━━━\u001b[0m \u001b[32m55.5/55.5 kB\u001b[0m \u001b[31m854.1 kB/s\u001b[0m eta \u001b[36m0:00:00\u001b[0m\n",
            "\u001b[?25hCollecting dawg-python>=0.7.1 (from pymorphy2)\n",
            "  Downloading DAWG_Python-0.7.2-py2.py3-none-any.whl (11 kB)\n",
            "Collecting pymorphy2-dicts-ru<3.0,>=2.4 (from pymorphy2)\n",
            "  Downloading pymorphy2_dicts_ru-2.4.417127.4579844-py2.py3-none-any.whl (8.2 MB)\n",
            "\u001b[2K     \u001b[90m━━━━━━━━━━━━━━━━━━━━━━━━━━━━━━━━━━━━━━━━\u001b[0m \u001b[32m8.2/8.2 MB\u001b[0m \u001b[31m24.9 MB/s\u001b[0m eta \u001b[36m0:00:00\u001b[0m\n",
            "\u001b[?25hCollecting docopt>=0.6 (from pymorphy2)\n",
            "  Downloading docopt-0.6.2.tar.gz (25 kB)\n",
            "  Preparing metadata (setup.py) ... \u001b[?25l\u001b[?25hdone\n",
            "Building wheels for collected packages: docopt\n",
            "  Building wheel for docopt (setup.py) ... \u001b[?25l\u001b[?25hdone\n",
            "  Created wheel for docopt: filename=docopt-0.6.2-py2.py3-none-any.whl size=13706 sha256=b00899463e94500021b3422a1cabd7420bf09df910ddb7e30ecf30251ac6b9ac\n",
            "  Stored in directory: /root/.cache/pip/wheels/fc/ab/d4/5da2067ac95b36618c629a5f93f809425700506f72c9732fac\n",
            "Successfully built docopt\n",
            "Installing collected packages: pymorphy2-dicts-ru, docopt, dawg-python, pymorphy2\n",
            "Successfully installed dawg-python-0.7.2 docopt-0.6.2 pymorphy2-0.9.1 pymorphy2-dicts-ru-2.4.417127.4579844\n",
            "Collecting pyLDAvis\n",
            "  Downloading pyLDAvis-3.4.1-py3-none-any.whl (2.6 MB)\n",
            "\u001b[2K     \u001b[90m━━━━━━━━━━━━━━━━━━━━━━━━━━━━━━━━━━━━━━━━\u001b[0m \u001b[32m2.6/2.6 MB\u001b[0m \u001b[31m11.5 MB/s\u001b[0m eta \u001b[36m0:00:00\u001b[0m\n",
            "\u001b[?25hRequirement already satisfied: numpy>=1.24.2 in /usr/local/lib/python3.10/dist-packages (from pyLDAvis) (1.25.2)\n",
            "Requirement already satisfied: scipy in /usr/local/lib/python3.10/dist-packages (from pyLDAvis) (1.11.4)\n",
            "Requirement already satisfied: pandas>=2.0.0 in /usr/local/lib/python3.10/dist-packages (from pyLDAvis) (2.0.3)\n",
            "Requirement already satisfied: joblib>=1.2.0 in /usr/local/lib/python3.10/dist-packages (from pyLDAvis) (1.4.0)\n",
            "Requirement already satisfied: jinja2 in /usr/local/lib/python3.10/dist-packages (from pyLDAvis) (3.1.3)\n",
            "Collecting numexpr (from pyLDAvis)\n",
            "  Downloading numexpr-2.10.0-cp310-cp310-manylinux_2_17_x86_64.manylinux2014_x86_64.whl (376 kB)\n",
            "\u001b[2K     \u001b[90m━━━━━━━━━━━━━━━━━━━━━━━━━━━━━━━━━━━━━━━━\u001b[0m \u001b[32m376.1/376.1 kB\u001b[0m \u001b[31m16.9 MB/s\u001b[0m eta \u001b[36m0:00:00\u001b[0m\n",
            "\u001b[?25hCollecting funcy (from pyLDAvis)\n",
            "  Downloading funcy-2.0-py2.py3-none-any.whl (30 kB)\n",
            "Requirement already satisfied: scikit-learn>=1.0.0 in /usr/local/lib/python3.10/dist-packages (from pyLDAvis) (1.2.2)\n",
            "Requirement already satisfied: gensim in /usr/local/lib/python3.10/dist-packages (from pyLDAvis) (4.3.2)\n",
            "Requirement already satisfied: setuptools in /usr/local/lib/python3.10/dist-packages (from pyLDAvis) (67.7.2)\n",
            "Requirement already satisfied: python-dateutil>=2.8.2 in /usr/local/lib/python3.10/dist-packages (from pandas>=2.0.0->pyLDAvis) (2.9.0.post0)\n",
            "Requirement already satisfied: pytz>=2020.1 in /usr/local/lib/python3.10/dist-packages (from pandas>=2.0.0->pyLDAvis) (2024.1)\n",
            "Requirement already satisfied: tzdata>=2022.1 in /usr/local/lib/python3.10/dist-packages (from pandas>=2.0.0->pyLDAvis) (2024.1)\n",
            "Requirement already satisfied: threadpoolctl>=2.0.0 in /usr/local/lib/python3.10/dist-packages (from scikit-learn>=1.0.0->pyLDAvis) (3.5.0)\n",
            "Requirement already satisfied: smart-open>=1.8.1 in /usr/local/lib/python3.10/dist-packages (from gensim->pyLDAvis) (6.4.0)\n",
            "Requirement already satisfied: MarkupSafe>=2.0 in /usr/local/lib/python3.10/dist-packages (from jinja2->pyLDAvis) (2.1.5)\n",
            "Requirement already satisfied: six>=1.5 in /usr/local/lib/python3.10/dist-packages (from python-dateutil>=2.8.2->pandas>=2.0.0->pyLDAvis) (1.16.0)\n",
            "Installing collected packages: funcy, numexpr, pyLDAvis\n",
            "Successfully installed funcy-2.0 numexpr-2.10.0 pyLDAvis-3.4.1\n"
          ]
        },
        {
          "output_type": "stream",
          "name": "stderr",
          "text": [
            "[nltk_data] Downloading package stopwords to /root/nltk_data...\n",
            "[nltk_data]   Unzipping corpora/stopwords.zip.\n"
          ]
        },
        {
          "output_type": "stream",
          "name": "stdout",
          "text": [
            "Mounted at /content/drive\n"
          ]
        }
      ],
      "source": [
        "# !pip install gsdmm\n",
        "!pip install pymorphy2\n",
        "!pip install pyLDAvis\n",
        "\n",
        "from google.colab import drive\n",
        "import pandas as pd\n",
        "import pymorphy2\n",
        "import re\n",
        "import numpy as np\n",
        "import nltk\n",
        "from nltk.corpus import stopwords\n",
        "nltk.download('stopwords')\n",
        "import time\n",
        "from sklearn.model_selection import train_test_split\n",
        "from sklearn.feature_extraction.text import CountVectorizer\n",
        "\n",
        "from gensim import corpora\n",
        "from gensim.models import LdaModel\n",
        "from gensim.matutils import Sparse2Corpus\n",
        "\n",
        "import pyLDAvis\n",
        "import pyLDAvis.gensim_models\n",
        "\n",
        "from gensim.models import CoherenceModel\n",
        "from gensim.corpora import Dictionary\n",
        "\n",
        "\n",
        "drive.mount('/content/drive')"
      ]
    },
    {
      "cell_type": "code",
      "execution_count": null,
      "id": "rX_Nh1osgeJz",
      "metadata": {
        "colab": {
          "base_uri": "https://localhost:8080/"
        },
        "id": "rX_Nh1osgeJz",
        "outputId": "815d259d-78c7-4f60-b420-29881192974b"
      },
      "outputs": [
        {
          "output_type": "stream",
          "name": "stderr",
          "text": [
            "/usr/local/lib/python3.10/dist-packages/ipykernel/ipkernel.py:283: DeprecationWarning: `should_run_async` will not call `transform_cell` automatically in the future. Please pass the result to `transformed_cell` argument and any exception that happen during thetransform in `preprocessing_exc_tuple` in IPython 7.17 and above.\n",
            "  and should_run_async(code)\n"
          ]
        },
        {
          "output_type": "execute_result",
          "data": {
            "text/plain": [
              "device(type='cpu')"
            ]
          },
          "metadata": {},
          "execution_count": 2
        }
      ],
      "source": [
        "import torch\n",
        "device = torch.device(\"cuda\" if torch.cuda.is_available() else \"cpu\")\n",
        "device"
      ]
    },
    {
      "cell_type": "markdown",
      "id": "NIyHVFzVfE8O",
      "metadata": {
        "id": "NIyHVFzVfE8O"
      },
      "source": [
        "## Считываем данные"
      ]
    },
    {
      "cell_type": "code",
      "execution_count": null,
      "id": "bflB8ZwvPg96",
      "metadata": {
        "colab": {
          "base_uri": "https://localhost:8080/"
        },
        "id": "bflB8ZwvPg96",
        "outputId": "c6755e64-640c-4768-e761-8247c60968ae"
      },
      "outputs": [
        {
          "output_type": "stream",
          "name": "stderr",
          "text": [
            "/usr/local/lib/python3.10/dist-packages/ipykernel/ipkernel.py:283: DeprecationWarning: `should_run_async` will not call `transform_cell` automatically in the future. Please pass the result to `transformed_cell` argument and any exception that happen during thetransform in `preprocessing_exc_tuple` in IPython 7.17 and above.\n",
            "  and should_run_async(code)\n"
          ]
        }
      ],
      "source": [
        "df = pd.read_csv('/content/drive/MyDrive/voice_bot_26_03_2024.csv')"
      ]
    },
    {
      "cell_type": "markdown",
      "id": "CCLBgItIe6gi",
      "metadata": {
        "id": "CCLBgItIe6gi"
      },
      "source": [
        "## Предобработка текста\n"
      ]
    },
    {
      "cell_type": "code",
      "execution_count": null,
      "id": "pP_Yk8N4fPOg",
      "metadata": {
        "colab": {
          "base_uri": "https://localhost:8080/"
        },
        "id": "pP_Yk8N4fPOg",
        "outputId": "3721210b-9e56-45ea-b5dc-4f548264fbca"
      },
      "outputs": [
        {
          "output_type": "stream",
          "name": "stdout",
          "text": [
            "(1699393, 3)\n",
            "    id                                               text  \\\n",
            "0    2                                получение куар хода   \n",
            "1   20                      потеряли код получения заказа   \n",
            "2   36                                   получить посылку   \n",
            "3   50            мне не пришел код для получения посылки   \n",
            "4   64                             связаться с оператором   \n",
            "5   72                я хочу узнать код получения посылки   \n",
            "6   88                          оператора можно связаться   \n",
            "7   96               мне пришла смска от получения заказа   \n",
            "8  112             а не могу забрать посылку из постамата   \n",
            "9  120  алло здравствуйте а можно мне смску чтобы полу...   \n",
            "\n",
            "                     datetime  \n",
            "0  2022-01-25 10:26:08.250148  \n",
            "1  2022-01-25 11:15:12.752175  \n",
            "2  2022-01-25 12:06:13.747782  \n",
            "3  2022-01-25 14:19:56.151572  \n",
            "4  2022-01-25 14:41:44.752494  \n",
            "5  2022-01-25 15:40:12.343129  \n",
            "6  2022-01-25 16:37:29.556679  \n",
            "7  2022-01-25 18:51:15.046167  \n",
            "8  2022-01-25 19:26:38.743656  \n",
            "9  2022-01-26 04:20:01.359857  \n",
            "2024-03-26 06:20:20.049007\n",
            "2022-01-25 10:26:08.250148\n"
          ]
        },
        {
          "output_type": "stream",
          "name": "stderr",
          "text": [
            "/usr/local/lib/python3.10/dist-packages/ipykernel/ipkernel.py:283: DeprecationWarning: `should_run_async` will not call `transform_cell` automatically in the future. Please pass the result to `transformed_cell` argument and any exception that happen during thetransform in `preprocessing_exc_tuple` in IPython 7.17 and above.\n",
            "  and should_run_async(code)\n"
          ]
        }
      ],
      "source": [
        "print(df.shape)\n",
        "print(df.head(10))\n",
        "print(df.datetime.max())\n",
        "print(df.datetime.min())"
      ]
    },
    {
      "cell_type": "code",
      "execution_count": null,
      "id": "_ipnZbcotNfi",
      "metadata": {
        "colab": {
          "base_uri": "https://localhost:8080/"
        },
        "id": "_ipnZbcotNfi",
        "outputId": "d500e119-d6cf-4d12-82f6-3c726fcf4fed"
      },
      "outputs": [
        {
          "output_type": "stream",
          "name": "stderr",
          "text": [
            "/usr/local/lib/python3.10/dist-packages/ipykernel/ipkernel.py:283: DeprecationWarning: `should_run_async` will not call `transform_cell` automatically in the future. Please pass the result to `transformed_cell` argument and any exception that happen during thetransform in `preprocessing_exc_tuple` in IPython 7.17 and above.\n",
            "  and should_run_async(code)\n",
            "/usr/local/lib/python3.10/dist-packages/pymorphy2/units/base.py:70: DeprecationWarning: inspect.getargspec() is deprecated since Python 3.0, use inspect.signature() or inspect.getfullargspec()\n",
            "  args, varargs, kw, default = inspect.getargspec(cls.__init__)\n",
            "/usr/local/lib/python3.10/dist-packages/pymorphy2/units/base.py:70: DeprecationWarning: inspect.getargspec() is deprecated since Python 3.0, use inspect.signature() or inspect.getfullargspec()\n",
            "  args, varargs, kw, default = inspect.getargspec(cls.__init__)\n",
            "/usr/local/lib/python3.10/dist-packages/pymorphy2/units/base.py:70: DeprecationWarning: inspect.getargspec() is deprecated since Python 3.0, use inspect.signature() or inspect.getfullargspec()\n",
            "  args, varargs, kw, default = inspect.getargspec(cls.__init__)\n",
            "/usr/local/lib/python3.10/dist-packages/pymorphy2/units/base.py:70: DeprecationWarning: inspect.getargspec() is deprecated since Python 3.0, use inspect.signature() or inspect.getfullargspec()\n",
            "  args, varargs, kw, default = inspect.getargspec(cls.__init__)\n",
            "/usr/local/lib/python3.10/dist-packages/pymorphy2/units/base.py:70: DeprecationWarning: inspect.getargspec() is deprecated since Python 3.0, use inspect.signature() or inspect.getfullargspec()\n",
            "  args, varargs, kw, default = inspect.getargspec(cls.__init__)\n",
            "/usr/local/lib/python3.10/dist-packages/pymorphy2/units/base.py:70: DeprecationWarning: inspect.getargspec() is deprecated since Python 3.0, use inspect.signature() or inspect.getfullargspec()\n",
            "  args, varargs, kw, default = inspect.getargspec(cls.__init__)\n",
            "/usr/local/lib/python3.10/dist-packages/pymorphy2/units/base.py:70: DeprecationWarning: inspect.getargspec() is deprecated since Python 3.0, use inspect.signature() or inspect.getfullargspec()\n",
            "  args, varargs, kw, default = inspect.getargspec(cls.__init__)\n",
            "/usr/local/lib/python3.10/dist-packages/pymorphy2/units/base.py:70: DeprecationWarning: inspect.getargspec() is deprecated since Python 3.0, use inspect.signature() or inspect.getfullargspec()\n",
            "  args, varargs, kw, default = inspect.getargspec(cls.__init__)\n",
            "/usr/local/lib/python3.10/dist-packages/pymorphy2/units/base.py:70: DeprecationWarning: inspect.getargspec() is deprecated since Python 3.0, use inspect.signature() or inspect.getfullargspec()\n",
            "  args, varargs, kw, default = inspect.getargspec(cls.__init__)\n",
            "/usr/local/lib/python3.10/dist-packages/pymorphy2/units/base.py:70: DeprecationWarning: inspect.getargspec() is deprecated since Python 3.0, use inspect.signature() or inspect.getfullargspec()\n",
            "  args, varargs, kw, default = inspect.getargspec(cls.__init__)\n",
            "/usr/local/lib/python3.10/dist-packages/pymorphy2/units/base.py:70: DeprecationWarning: inspect.getargspec() is deprecated since Python 3.0, use inspect.signature() or inspect.getfullargspec()\n",
            "  args, varargs, kw, default = inspect.getargspec(cls.__init__)\n",
            "/usr/local/lib/python3.10/dist-packages/pymorphy2/units/base.py:70: DeprecationWarning: inspect.getargspec() is deprecated since Python 3.0, use inspect.signature() or inspect.getfullargspec()\n",
            "  args, varargs, kw, default = inspect.getargspec(cls.__init__)\n"
          ]
        }
      ],
      "source": [
        "morph = pymorphy2.MorphAnalyzer()\n"
      ]
    },
    {
      "cell_type": "code",
      "execution_count": null,
      "id": "puaxC-LXt3Ee",
      "metadata": {
        "colab": {
          "base_uri": "https://localhost:8080/"
        },
        "id": "puaxC-LXt3Ee",
        "outputId": "68da7967-844b-4fe1-9f9b-8c17050bfc8f"
      },
      "outputs": [
        {
          "output_type": "stream",
          "name": "stderr",
          "text": [
            "/usr/local/lib/python3.10/dist-packages/ipykernel/ipkernel.py:283: DeprecationWarning: `should_run_async` will not call `transform_cell` automatically in the future. Please pass the result to `transformed_cell` argument and any exception that happen during thetransform in `preprocessing_exc_tuple` in IPython 7.17 and above.\n",
            "  and should_run_async(code)\n"
          ]
        }
      ],
      "source": [
        "import string\n",
        "def preprocess_text(data, stopwords=stopwords.words('russian')):\n",
        "  \"\"\" Очистка текста и удаление стоп слов \"\"\"\n",
        "  text = re.sub('ё', 'е', data[0])\n",
        "  text = ''.join([char for char in text if char not in string.punctuation])  # Удаление знаков препинания\n",
        "  text = ' '.join(text.split())  # Удаление повторяющихся пробелов\n",
        "  text = text.strip()\n",
        "  # удаление стоп слов\n",
        "  text = [w for w in text.split() if w.lower() not in stopwords]\n",
        "  # удаление слов короче 3 символов\n",
        "  text  = [w for w in text if len(w) >=3]\n",
        "  return [' '.join(text)]\n",
        "\n",
        "def lemmatization_text(data, morph=morph):\n",
        "  \"\"\" Приведение слов к нормальной форме \"\"\"\n",
        "\n",
        "  result = ' '.join([morph.parse(x)[0].normal_form for x in data])\n",
        "  result = ' '.join([x for x in result.split()])\n",
        "  return result\n",
        "\n",
        "def get_results(data, morph=morph, stopwords=stopwords.words('russian')):\n",
        "  \"\"\" Очистка текста и удаление стоп слов, приведение слов к нормальной форме\n",
        "  и токенизация \"\"\"\n",
        "\n",
        "  if data is not np.NaN:\n",
        "    result = preprocess_text(data=data)\n",
        "    result = lemmatization_text(result)\n",
        "    return result\n",
        "  return ''\n"
      ]
    },
    {
      "cell_type": "markdown",
      "id": "qy8TOz8-x3BZ",
      "metadata": {
        "id": "qy8TOz8-x3BZ"
      },
      "source": [
        "## Очистка текста"
      ]
    },
    {
      "cell_type": "code",
      "execution_count": null,
      "id": "xj-2Yr0bxtvO",
      "metadata": {
        "colab": {
          "base_uri": "https://localhost:8080/"
        },
        "id": "xj-2Yr0bxtvO",
        "outputId": "2f3d4355-7db0-4a21-bc4d-9ef09154062f"
      },
      "outputs": [
        {
          "output_type": "stream",
          "name": "stderr",
          "text": [
            "/usr/local/lib/python3.10/dist-packages/ipykernel/ipkernel.py:283: DeprecationWarning: `should_run_async` will not call `transform_cell` automatically in the future. Please pass the result to `transformed_cell` argument and any exception that happen during thetransform in `preprocessing_exc_tuple` in IPython 7.17 and above.\n",
            "  and should_run_async(code)\n"
          ]
        }
      ],
      "source": [
        "def transform_data(data: pd.Series) -> list:\n",
        "  transorm_lst=[get_results(data=[i]) for i in data]\n",
        "  transorm_lst=[x for x in transorm_lst if x not in [None, '']]\n",
        "  return transorm_lst"
      ]
    },
    {
      "cell_type": "code",
      "execution_count": null,
      "id": "O_HuOyRAyaWR",
      "metadata": {
        "colab": {
          "base_uri": "https://localhost:8080/"
        },
        "id": "O_HuOyRAyaWR",
        "outputId": "203e1576-88bd-45e8-d702-f62f986ff5e3"
      },
      "outputs": [
        {
          "output_type": "stream",
          "name": "stderr",
          "text": [
            "/usr/local/lib/python3.10/dist-packages/ipykernel/ipkernel.py:283: DeprecationWarning: `should_run_async` will not call `transform_cell` automatically in the future. Please pass the result to `transformed_cell` argument and any exception that happen during thetransform in `preprocessing_exc_tuple` in IPython 7.17 and above.\n",
            "  and should_run_async(code)\n"
          ]
        },
        {
          "output_type": "stream",
          "name": "stdout",
          "text": [
            "The script took 373.3990957736969 seconds to run.\n"
          ]
        }
      ],
      "source": [
        "## обработка датаеста\n",
        "\n",
        "# Capture the start time\n",
        "start_time = time.time()\n",
        "\n",
        "X_train, X_test = train_test_split(df['text'],\n",
        "                                   test_size=0.0001,\n",
        "                                   random_state=10\n",
        "                                  )\n",
        "\n",
        "test_lst = transform_data(X_train)\n",
        "\n",
        "# Capture the end time\n",
        "end_time = time.time()\n",
        "\n",
        "# Calculate the elapsed time\n",
        "elapsed_time = end_time - start_time\n",
        "print(f\"The script took {elapsed_time} seconds to run.\")"
      ]
    },
    {
      "cell_type": "code",
      "execution_count": null,
      "id": "yN54JKt8pXOM",
      "metadata": {
        "colab": {
          "base_uri": "https://localhost:8080/"
        },
        "id": "yN54JKt8pXOM",
        "outputId": "ffc6a030-a98e-4023-a5c5-12b517f83707"
      },
      "outputs": [
        {
          "output_type": "stream",
          "name": "stdout",
          "text": [
            "1655929\n",
            "заказ\n"
          ]
        },
        {
          "output_type": "stream",
          "name": "stderr",
          "text": [
            "/usr/local/lib/python3.10/dist-packages/ipykernel/ipkernel.py:283: DeprecationWarning: `should_run_async` will not call `transform_cell` automatically in the future. Please pass the result to `transformed_cell` argument and any exception that happen during thetransform in `preprocessing_exc_tuple` in IPython 7.17 and above.\n",
            "  and should_run_async(code)\n"
          ]
        }
      ],
      "source": [
        "print(len(test_lst))\n",
        "print(test_lst[6])"
      ]
    },
    {
      "cell_type": "code",
      "execution_count": null,
      "id": "303sJviLUn9P",
      "metadata": {
        "colab": {
          "base_uri": "https://localhost:8080/"
        },
        "id": "303sJviLUn9P",
        "outputId": "f5ccaea9-9661-4a31-bbc6-4b875f82c722"
      },
      "outputs": [
        {
          "output_type": "stream",
          "name": "stderr",
          "text": [
            "/usr/local/lib/python3.10/dist-packages/ipykernel/ipkernel.py:283: DeprecationWarning: `should_run_async` will not call `transform_cell` automatically in the future. Please pass the result to `transformed_cell` argument and any exception that happen during thetransform in `preprocessing_exc_tuple` in IPython 7.17 and above.\n",
            "  and should_run_async(code)\n"
          ]
        }
      ],
      "source": [
        "vector_ben = CountVectorizer(\n",
        "    analyzer='word',\n",
        "    min_df=75,\n",
        "    ngram_range=(1,3),\n",
        "    stop_words=stopwords.words('russian')\n",
        "    )\n",
        "test_vec_ben = vector_ben.fit_transform(test_lst)"
      ]
    },
    {
      "cell_type": "markdown",
      "id": "8o8c1T34eRSC",
      "metadata": {
        "id": "8o8c1T34eRSC"
      },
      "source": [
        "## BaseLine LDA"
      ]
    },
    {
      "cell_type": "code",
      "execution_count": null,
      "id": "Buu4Js8-VvVV",
      "metadata": {
        "colab": {
          "background_save": true,
          "base_uri": "https://localhost:8080/"
        },
        "id": "Buu4Js8-VvVV",
        "outputId": "223b43f2-9070-4e81-c32d-179c44eda16d"
      },
      "outputs": [
        {
          "output_type": "stream",
          "name": "stderr",
          "text": [
            "/usr/local/lib/python3.10/dist-packages/ipykernel/ipkernel.py:283: DeprecationWarning: `should_run_async` will not call `transform_cell` automatically in the future. Please pass the result to `transformed_cell` argument and any exception that happen during thetransform in `preprocessing_exc_tuple` in IPython 7.17 and above.\n",
            "  and should_run_async(code)\n"
          ]
        }
      ],
      "source": [
        "# Capture the start time\n",
        "start_time = time.time()\n",
        "\n",
        "\n",
        "# Convert document-term matrix to a Gensim-friendly format\n",
        "corpus = Sparse2Corpus(test_vec_ben , documents_columns=False)\n",
        "\n",
        "# Create dictionary mapping for Gensim\n",
        "id2word = corpora.Dictionary.from_corpus(corpus, id2word=dict((id, word) for word, id in vector_ben.vocabulary_.items()))\n",
        "\n",
        "# Perform LDA using Gensim\n",
        "lda_model = LdaModel(corpus=corpus, id2word=id2word, num_topics=4, passes=10)\n",
        "\n",
        "\n",
        "# Capture the end time\n",
        "end_time = time.time()\n",
        "# Calculate the elapsed time\n",
        "elapsed_time = end_time - start_time\n",
        "print(f\"The script took {elapsed_time} seconds to run.\")\n"
      ]
    },
    {
      "cell_type": "code",
      "execution_count": null,
      "id": "4WAk-32dhHo1",
      "metadata": {
        "colab": {
          "background_save": true
        },
        "id": "4WAk-32dhHo1",
        "outputId": "6ee45aae-5bad-425b-c461-77dffeb2c7dc"
      },
      "outputs": [
        {
          "name": "stderr",
          "output_type": "stream",
          "text": [
            "/usr/local/lib/python3.10/dist-packages/ipykernel/ipkernel.py:283: DeprecationWarning: `should_run_async` will not call `transform_cell` automatically in the future. Please pass the result to `transformed_cell` argument and any exception that happen during thetransform in `preprocessing_exc_tuple` in IPython 7.17 and above.\n",
            "  and should_run_async(code)\n"
          ]
        }
      ],
      "source": [
        "pyLDAvis.enable_notebook()\n",
        "pannel = pyLDAvis.gensim_models.prepare(lda_model,\n",
        "                                        corpus,\n",
        "                                        id2word,\n",
        "                                        mds='tsne'\n",
        "                                        )"
      ]
    },
    {
      "cell_type": "code",
      "execution_count": null,
      "id": "th1Djrctib67",
      "metadata": {
        "colab": {
          "background_save": true
        },
        "id": "th1Djrctib67",
        "outputId": "e0624360-678f-45b5-8cce-4cfddbc2bb0d"
      },
      "outputs": [
        {
          "name": "stderr",
          "output_type": "stream",
          "text": [
            "/usr/local/lib/python3.10/dist-packages/ipykernel/ipkernel.py:283: DeprecationWarning: `should_run_async` will not call `transform_cell` automatically in the future. Please pass the result to `transformed_cell` argument and any exception that happen during thetransform in `preprocessing_exc_tuple` in IPython 7.17 and above.\n",
            "  and should_run_async(code)\n"
          ]
        },
        {
          "data": {
            "text/html": [
              "\n",
              "<link rel=\"stylesheet\" type=\"text/css\" href=\"https://cdn.jsdelivr.net/gh/bmabey/pyLDAvis@3.4.0/pyLDAvis/js/ldavis.v1.0.0.css\">\n",
              "\n",
              "\n",
              "<div id=\"ldavis_el1721388266787101443964301640\" style=\"background-color:white;\"></div>\n",
              "<script type=\"text/javascript\">\n",
              "\n",
              "var ldavis_el1721388266787101443964301640_data = {\"mdsDat\": {\"x\": [14.261856079101562, 43.72498321533203, -46.39030075073242, -75.83645629882812], \"y\": [-73.5633544921875, 16.129806518554688, 43.981197357177734, -45.80177307128906], \"topics\": [1, 2, 3, 4], \"cluster\": [1, 1, 1, 1], \"Freq\": [32.31148083436022, 26.52607528478247, 23.36026421621014, 17.802179664647173]}, \"tinfo\": {\"Term\": [\"\\u043e\\u043f\\u0435\\u0440\\u0430\\u0442\\u043e\\u0440\", \"\\u0437\\u0430\\u043a\\u0430\\u0437\", \"\\u043a\\u043e\\u0434\", \"\\u0432\\u044b\\u0434\\u0430\\u0447\\u0430\", \"\\u043a\\u043e\\u0434 \\u0432\\u044b\\u0434\\u0430\\u0447\\u0430\", \"\\u043f\\u043e\\u043b\\u0443\\u0447\\u0438\\u0442\\u044c \\u043a\\u043e\\u0434\", \"\\u043f\\u043e\\u043b\\u0443\\u0447\\u0438\\u0442\\u044c \\u043a\\u043e\\u0434 \\u0432\\u044b\\u0434\\u0430\\u0447\\u0430\", \"\\u043f\\u043e\\u043b\\u0443\\u0447\\u0438\\u0442\\u044c\", \"\\u0441\\u0442\\u0430\\u0442\\u0443\\u0441\", \"\\u0443\\u0437\\u043d\\u0430\\u0442\\u044c\", \"\\u0441\\u0442\\u0430\\u0442\\u0443\\u0441 \\u0437\\u0430\\u043a\\u0430\\u0437\", \"\\u0443\\u0437\\u043d\\u0430\\u0442\\u044c \\u0441\\u0442\\u0430\\u0442\\u0443\\u0441\", \"\\u0443\\u0437\\u043d\\u0430\\u0442\\u044c \\u0441\\u0442\\u0430\\u0442\\u0443\\u0441 \\u0437\\u0430\\u043a\\u0430\\u0437\", \"\\u0441\\u043e\\u0435\\u0434\\u0438\\u043d\\u0438\\u0442\\u0435\", \"\\u0441\\u043e\\u0435\\u0434\\u0438\\u043d\\u0438\\u0442\\u0435 \\u043e\\u043f\\u0435\\u0440\\u0430\\u0442\\u043e\\u0440\", \"\\u0441\\u0432\\u044f\\u0437\\u0430\\u0442\\u044c\\u0441\\u044f\", \"\\u044f\\u0447\\u0435\\u0439\\u043a\\u0430\", \"\\u043c\\u043e\\u0433\\u0443\", \"\\u043f\\u043e\\u0441\\u044b\\u043b\\u043a\\u0430\", \"\\u043f\\u043e\\u043b\\u0443\\u0447\\u0438\\u0442\\u044c \\u0437\\u0430\\u043a\\u0430\\u0437\", \"\\u043c\\u043e\\u0433\\u0443 \\u043f\\u043e\\u043b\\u0443\\u0447\\u0438\\u0442\\u044c\", \"\\u0441\\u0432\\u044f\\u0437\\u0430\\u0442\\u044c\\u0441\\u044f \\u043e\\u043f\\u0435\\u0440\\u0430\\u0442\\u043e\\u0440\", \"\\u0441\\u043e\\u0435\\u0434\\u0438\\u043d\\u0438\\u0442\\u044c\", \"\\u0440\\u0430\\u0431\\u043e\\u0442\\u0430\\u0435\\u0442\", \"\\u0441\\u043f\\u0435\\u0446\\u0438\\u0430\\u043b\\u0438\\u0441\\u0442\", \"\\u0434\\u043e\\u0441\\u0442\\u0430\\u0432\\u043a\\u0430\", \"\\u0430\\u043b\\u043b\\u043e\", \"\\u0441\\u043e\\u0435\\u0434\\u0438\\u043d\\u0438\\u0442\\u044c \\u043e\\u043f\\u0435\\u0440\\u0430\\u0442\\u043e\\u0440\", \"\\u043e\\u043f\\u0435\\u0440\\u0430\\u0442\\u043e\\u0440\\u043e\\u043c\", \"\\u0441\\u0432\\u044f\\u0437\\u044c\", \"\\u0434\\u043e\\u0441\\u0442\\u0430\\u0432\\u043a\\u0430\", \"\\u043f\\u043e\\u0441\\u044b\\u043b\\u043a\\u0443\", \"\\u043d\\u043e\\u043c\\u0435\\u0440\", \"\\u043f\\u0440\\u0438\\u0448\\u0435\\u043b\", \"\\u044d\\u0442\\u043e\", \"\\u0430\\u0434\\u0440\\u0435\\u0441\", \"\\u043f\\u0440\\u0438\\u0448\\u043b\\u0430\", \"\\u043f\\u0440\\u043e\\u0431\\u043b\\u0435\\u043c\\u0430\", \"\\u0434\\u0432\\u0430\\u0434\\u0446\\u0430\\u0442\\u044c\", \"\\u043f\\u043e\\u0441\\u044b\\u043b\\u043a\\u0438\", \"\\u043f\\u043e\\u0447\\u0435\\u043c\\u0443\", \"\\u043f\\u0443\\u043d\\u043a\\u0442\", \"\\u043d\\u043e\\u043b\\u044c\", \"\\u0434\\u0435\\u0432\\u044f\\u0442\\u044c\", \"\\u0445\\u0440\\u0430\\u043d\\u0435\\u043d\\u0438\\u044f\", \"\\u043f\\u044f\\u0442\\u044c\", \"\\u0438\\u0437\\u043c\\u0435\\u043d\\u0438\\u0442\\u044c\", \"\\u0441\\u0440\\u043e\\u043a \\u0445\\u0440\\u0430\\u043d\\u0435\\u043d\\u0438\\u044f\", \"\\u043c\\u0430\\u0433\\u0430\\u0437\\u0438\\u043d\", \"\\u0432\\u043e\\u0441\\u0435\\u043c\\u044c\", \"\\u043f\\u043e\\u043b\\u0443\\u0447\\u0435\\u043d\\u0438\\u044f\", \"\\u0441\\u0435\\u0433\\u043e\\u0434\\u043d\\u044f\", \"\\u0441\\u043c\\u0441\", \"\\u043f\\u043e\\u043b\\u0443\\u0447\\u0438\\u0442\\u044c \\u043f\\u043e\\u0441\\u044b\\u043b\\u043a\\u0443\", \"\\u043f\\u043e\\u043b\\u0443\\u0447\\u0438\\u0442\\u0441\\u044f\", \"\\u0448\\u0435\\u0441\\u0442\\u044c\", \"\\u0434\\u043e\\u0441\\u0442\\u0430\\u0432\\u043a\\u0438\", \"\\u0447\\u0435\\u0442\\u044b\\u0440\\u0435\", \"\\u043f\\u044f\\u0442\\u0435\\u0440\\u043e\\u0447\\u043a\\u0430\", \"\\u0445\\u043e\\u0442\\u0435\\u043b\\u0430\", \"\\u043f\\u043e\\u0441\\u044b\\u043b\\u043a\\u0430\", \"\\u0437\\u0434\\u0440\\u0430\\u0432\\u0441\\u0442\\u0432\\u0443\\u0439\\u0442\\u0435\", \"\\u0437\\u0430\\u043a\\u0430\\u0437\\u0430\", \"\\u043d\\u0443\\u0436\\u043d\\u043e\", \"\\u0432\\u044b\\u0434\\u0430\\u0447\\u0438\", \"\\u0442\\u043e\\u0432\\u0430\\u0440\", \"\\u043a\\u043e\\u0434 \\u0432\\u044b\\u0434\\u0430\\u0447\\u0438\", \"\\u0437\\u0430\\u0431\\u0440\\u0430\\u0442\\u044c\", \"\\u0441\\u0440\\u043e\\u043a\", \"\\u0437\\u0430\\u043a\\u0430\\u0437\", \"\\u043f\\u043e\\u0441\\u0442\\u0430\\u043c\\u0430\\u0442\", \"\\u0445\\u043e\\u0447\\u0443\", \"\\u043a\\u043e\\u0434\", \"\\u043c\\u043e\\u0433\\u0443\", \"\\u043f\\u0440\\u043e\\u0434\\u043b\\u0438\\u0442\\u044c\", \"\\u0432\\u044b\\u0434\\u0430\\u0447\\u0430\", \"\\u043a\\u043e\\u0434 \\u0432\\u044b\\u0434\\u0430\\u0447\\u0430\", \"\\u043f\\u043e\\u043b\\u0443\\u0447\\u0438\\u0442\\u044c \\u043a\\u043e\\u0434\", \"\\u043f\\u043e\\u043b\\u0443\\u0447\\u0438\\u0442\\u044c \\u043a\\u043e\\u0434 \\u0432\\u044b\\u0434\\u0430\\u0447\\u0430\", \"\\u0441\\u043e\\u0435\\u0434\\u0438\\u043d\\u0438\\u0442\\u044c\", \"\\u0441\\u043e\\u0435\\u0434\\u0438\\u043d\\u0438\\u0442\\u044c \\u043e\\u043f\\u0435\\u0440\\u0430\\u0442\\u043e\\u0440\", \"\\u0441\\u0432\\u044f\\u0437\\u044c\", \"\\u0441\\u0432\\u044f\\u0437\\u044c \\u043e\\u043f\\u0435\\u0440\\u0430\\u0442\\u043e\\u0440\", \"\\u043f\\u043e\\u043b\\u0443\\u0447\\u0438\\u0442\\u044c\\u0441\\u044f\", \"\\u0441\\u043e\\u0435\\u0434\\u0438\\u043d\\u0438\", \"\\u0441\\u043e\\u0435\\u0434\\u0438\\u043d\\u0438 \\u043e\\u043f\\u0435\\u0440\\u0430\\u0442\\u043e\\u0440\", \"\\u0441\\u043e\\u0435\\u0434\\u0438\\u043d\\u0435\\u043d\\u0438\\u0435\", \"\\u043d\\u0443\\u0436\\u043d\\u043e \\u043f\\u043e\\u043b\\u0443\\u0447\\u0438\\u0442\\u044c\", \"\\u0441\\u043e\\u0435\\u0434\\u0438\\u043d\\u0435\\u043d\\u0438\\u0435 \\u043e\\u043f\\u0435\\u0440\\u0430\\u0442\\u043e\\u0440\", \"\\u043e\\u043f\\u0435\\u0440\\u0430\\u0442\\u043e\\u0440\\u043e\\u043c \\u0441\\u043e\\u0435\\u0434\\u0438\\u043d\\u0438\\u0442\\u044c\", \"\\u043a\\u043e\\u0434 \\u043f\\u043e\\u043b\\u0443\\u0447\\u0435\\u043d\\u0438\\u0435\", \"\\u043a\\u043e\\u0434 \\u0437\\u0430\\u043a\\u0430\\u0437\", \"\\u043d\\u0443\\u0436\\u043d\\u043e \\u043f\\u043e\\u043b\\u0443\\u0447\\u0438\\u0442\\u044c \\u043a\\u043e\\u0434\", \"\\u0432\\u0435\\u0440\\u043d\\u043e\", \"\\u043f\\u043e\\u0437\\u043e\\u0432\\u0438\", \"\\u0441\\u0432\\u044f\\u0436\\u0438\", \"\\u043f\\u043e\\u043b\\u0443\\u0447\\u0438\\u0442\\u044c \\u043a\\u043e\\u0434 \\u0434\\u043e\\u0441\\u0442\\u0430\\u0432\\u043a\\u0430\", \"\\u043a\\u043e\\u043b\", \"\\u0431\\u044d\\u043a\", \"\\u043a\\u043e\\u043b \\u0431\\u044d\\u043a\", \"\\u043f\\u043e\\u043b\\u0443\\u0447\\u0438\\u0442\\u044c \\u0432\\u044b\\u0434\\u0430\\u0447\\u0430\", \"\\u043b\\u044d\\u0439\\u0442\\u0435\\u0440\", \"\\u0431\\u044d\\u043a \\u043b\\u044d\\u0439\\u0442\\u0435\\u0440\", \"\\u043a\\u043e\\u043b \\u0431\\u044d\\u043a \\u043b\\u044d\\u0439\\u0442\\u0435\\u0440\", \"\\u043a\\u043e\\u043d\\u0441\\u0443\\u043b\\u044c\\u0442\\u0430\\u0446\\u0438\\u044f\", \"\\u043a\\u043e\\u0434\", \"\\u043f\\u043e\\u043b\\u0443\\u0447\\u0438\\u0442\\u044c \\u043a\\u043e\\u0434 \\u0432\\u044b\\u0434\\u0430\\u0447\\u0438\", \"\\u043f\\u043e\\u043b\\u0443\\u0447\\u0438\\u0442\\u044c\", \"\\u0443\\u0437\\u043d\\u0430\\u0442\\u044c \\u043a\\u043e\\u0434\", \"\\u043f\\u043b\\u0438\\u0437\", \"\\u043f\\u043e\\u043b\\u0443\\u0447\\u0435\\u043d\\u0438\\u0435\", \"\\u0430\\u0431\\u043e\\u043d\\u0435\\u043d\\u0442\", \"\\u0441\\u0442\\u0430\\u0442\\u0443\\u0441\", \"\\u0443\\u0437\\u043d\\u0430\\u0442\\u044c\", \"\\u0441\\u0442\\u0430\\u0442\\u0443\\u0441 \\u0437\\u0430\\u043a\\u0430\\u0437\", \"\\u0443\\u0437\\u043d\\u0430\\u0442\\u044c \\u0441\\u0442\\u0430\\u0442\\u0443\\u0441\", \"\\u0443\\u0437\\u043d\\u0430\\u0442\\u044c \\u0441\\u0442\\u0430\\u0442\\u0443\\u0441 \\u0437\\u0430\\u043a\\u0430\\u0437\", \"\\u043f\\u043e\\u043b\\u0443\\u0447\\u0438\\u0442\\u044c \\u0437\\u0430\\u043a\\u0430\\u0437\", \"\\u043c\\u043e\\u0433\\u0443 \\u043f\\u043e\\u043b\\u0443\\u0447\\u0438\\u0442\\u044c\", \"\\u043c\\u043e\\u0433\\u0443 \\u043f\\u043e\\u043b\\u0443\\u0447\\u0438\\u0442\\u044c \\u0437\\u0430\\u043a\\u0430\\u0437\", \"\\u0441\\u0442\\u0430\\u0442\\u0443\\u0441 \\u0437\\u0430\\u043a\\u0430\\u0437\\u0430\", \"\\u043f\\u043e\\u043b\\u0443\\u0447\\u0438\\u0442\\u044c \\u043f\\u043e\\u0441\\u044b\\u043b\\u043a\\u0430\", \"\\u0445\\u043e\\u0447\\u0443 \\u0443\\u0437\\u043d\\u0430\\u0442\\u044c\", \"\\u043c\\u043e\\u0433\\u0443 \\u043f\\u043e\\u043b\\u0443\\u0447\\u0438\\u0442\\u044c \\u043f\\u043e\\u0441\\u044b\\u043b\\u043a\\u0430\", \"\\u0443\\u0437\\u043d\\u0430\\u0442\\u044c \\u0437\\u0430\\u043a\\u0430\\u0437\", \"\\u0443\\u0437\\u043d\\u0430\\u0442\\u044c \\u0441\\u0442\\u0430\\u0442\\u0443\\u0441 \\u0437\\u0430\\u043a\\u0430\\u0437\\u0430\", \"\\u0432\\u044b\\u0434\\u0430\\u0447\\u0438 \\u043f\\u043e\\u043b\\u0443\\u0447\\u0438\\u0442\\u044c\", \"\\u043a\\u043e\\u0434 \\u0432\\u044b\\u0434\\u0430\\u0447\\u0438 \\u043f\\u043e\\u043b\\u0443\\u0447\\u0438\\u0442\\u044c\", \"\\u043a\\u043e\\u0434 \\u0432\\u044b\\u0434\\u0430\\u0447\\u0438 \\u0437\\u0430\\u043a\\u0430\\u0437\", \"\\u043e\\u043f\\u043b\\u0430\\u0442\\u0438\\u0442\\u044c\", \"\\u043c\\u043e\\u0433\\u0443 \\u043f\\u043e\\u043b\\u0443\\u0447\\u0438\\u0442\\u044c \\u043f\\u043e\\u0441\\u044b\\u043b\\u043a\\u0443\", \"\\u044f\\u0449\\u0438\\u043a\", \"\\u043f\\u043e\\u043b\\u0443\\u0447\\u0438\\u0442\\u044c \\u0442\\u043e\\u0432\\u0430\\u0440\", \"\\u043f\\u0440\\u043e\\u0434\\u043b\\u0438\\u0442\\u044c \\u0437\\u0430\\u043a\\u0430\\u0437\", \"\\u043f\\u043e\\u0442\\u0435\\u0440\\u044f\\u043b\\u0430\\u0441\\u044c\", \"\\u043f\\u043e\\u0442\\u0435\\u0440\\u044f\\u043b\\u0430\\u0441\\u044c \\u043f\\u043e\\u0441\\u044b\\u043b\\u043a\\u0430\", \"\\u043e\\u0442\\u043f\\u0440\\u0430\\u0432\\u0438\\u0442\\u044c \\u0437\\u0430\\u043a\\u0430\\u0437\", \"\\u0437\\u0430\\u043a\\u0430\\u0437 \\u043f\\u043e\\u0441\\u0442\\u0430\\u043c\\u0430\\u0442\", \"\\u043d\\u0435\\u0432\\u043e\\u0437\\u043c\\u043e\\u0436\\u043d\\u043e\", \"\\u043f\\u043e\\u043b\\u0443\\u0447\\u0435\\u043d\\u0438\\u0435\\u043c\", \"\\u043c\\u043e\\u0436\\u0435\\u043c \\u043f\\u043e\\u043b\\u0443\\u0447\\u0438\\u0442\\u044c\", \"\\u0443\\u0437\\u043d\\u0430\\u0442\\u044c \\u043d\\u0430\\u0445\\u043e\\u0434\\u0438\\u0442\\u0441\\u044f\", \"\\u0437\\u0430\\u043a\\u0430\\u0437\", \"\\u043c\\u043e\\u0433\\u0443\", \"\\u043f\\u043e\\u043b\\u0443\\u0447\\u0438\\u0442\\u044c\", \"\\u043a\\u043e\\u0434 \\u0432\\u044b\\u0434\\u0430\\u0447\\u0438\", \"\\u043f\\u043e\\u0441\\u044b\\u043b\\u043a\\u0430\", \"\\u0432\\u044b\\u0434\\u0430\\u0447\\u0438\", \"\\u043e\\u0442\\u043f\\u0440\\u0430\\u0432\\u0438\\u0442\\u044c\", \"\\u043d\\u0430\\u0439\\u0442\\u0438\", \"\\u043d\\u0430\\u0445\\u043e\\u0434\\u0438\\u0442\\u0441\\u044f\", \"\\u0437\\u0430\\u043a\\u0430\\u0437\\u0430\", \"\\u0432\\u044b\\u0434\\u0430\\u0447\\u0438 \\u0437\\u0430\\u043a\\u0430\\u0437\", \"\\u0445\\u043e\\u0447\\u0443\", \"\\u0442\\u043e\\u0432\\u0430\\u0440\", \"\\u043e\\u043f\\u0435\\u0440\\u0430\\u0442\\u043e\\u0440\", \"\\u0441\\u043e\\u0435\\u0434\\u0438\\u043d\\u0438\\u0442\\u0435\", \"\\u0441\\u043e\\u0435\\u0434\\u0438\\u043d\\u0438\\u0442\\u0435 \\u043e\\u043f\\u0435\\u0440\\u0430\\u0442\\u043e\\u0440\", \"\\u0441\\u0432\\u044f\\u0437\\u0430\\u0442\\u044c\\u0441\\u044f\", \"\\u044f\\u0447\\u0435\\u0439\\u043a\\u0430\", \"\\u0441\\u0432\\u044f\\u0437\\u0430\\u0442\\u044c\\u0441\\u044f \\u043e\\u043f\\u0435\\u0440\\u0430\\u0442\\u043e\\u0440\", \"\\u0441\\u043f\\u0435\\u0446\\u0438\\u0430\\u043b\\u0438\\u0441\\u0442\", \"\\u0440\\u0430\\u0431\\u043e\\u0442\\u0430\\u0435\\u0442\", \"\\u0430\\u043b\\u043b\\u043e\", \"\\u043e\\u043f\\u0435\\u0440\\u0430\\u0442\\u043e\\u0440\\u043e\\u043c\", \"\\u0441\\u0432\\u044f\\u0436\\u0438\\u0442\\u0435\", \"\\u0430\\u0432\\u0442\\u043e\\u043c\\u0430\\u0442\", \"\\u043e\\u0442\\u043a\\u0440\\u044b\\u043b\\u0430\\u0441\\u044c\", \"\\u0441\\u0432\\u044f\\u0436\\u0438\\u0442\\u0435 \\u043e\\u043f\\u0435\\u0440\\u0430\\u0442\\u043e\\u0440\", \"\\u043d\\u0443\\u0436\\u0435\\u043d \\u043e\\u043f\\u0435\\u0440\\u0430\\u0442\\u043e\\u0440\", \"\\u043e\\u0442\\u043a\\u0440\\u044b\\u0432\\u0430\\u0435\\u0442\\u0441\\u044f\", \"\\u043e\\u0442\\u043a\\u0440\\u044b\\u043b\\u0430\\u0441\\u044c \\u044f\\u0447\\u0435\\u0439\\u043a\\u0430\", \"\\u0437\\u0430\\u0431\\u0440\\u0430\\u0442\\u044c \\u0437\\u0430\\u043a\\u0430\\u0437\", \"\\u0440\\u0430\\u0431\\u043e\\u0442\\u0430\\u0435\\u0442 \\u043f\\u043e\\u0441\\u0442\\u0430\\u043c\\u0430\\u0442\", \"\\u0445\\u0440\\u0430\\u043d\\u0435\\u043d\\u0438\\u0435\", \"\\u043e\\u0442\\u043a\\u0440\\u044b\\u0432\\u0430\\u0435\\u0442\\u0441\\u044f \\u044f\\u0447\\u0435\\u0439\\u043a\\u0430\", \"\\u043f\\u043e\\u0436\\u0430\\u043b\\u0443\\u0439\\u0441\\u0442\", \"\\u0441\\u0432\\u044f\\u0437\\u0430\\u0442\\u044c\", \"\\u0440\\u0430\\u0431\\u043e\\u0442\\u0430\\u0442\\u044c\", \"\\u0441\\u0432\\u043e\\u0439\", \"\\u0441\\u0440\\u043e\\u043a \\u0445\\u0440\\u0430\\u043d\\u0435\\u043d\\u0438\\u0435\", \"\\u0441\\u043e\\u0435\\u0434\\u0438\\u043d\\u0438\\u0442\\u0435 \\u0441\\u043f\\u0435\\u0446\\u0438\\u0430\\u043b\\u0438\\u0441\\u0442\", \"\\u0441\\u043e\\u0435\\u0434\\u0438\\u043d\\u0438\\u0442\\u0435 \\u043e\\u043f\\u0435\\u0440\\u0430\\u0442\\u043e\\u0440\\u043e\\u043c\", \"\\u043f\\u0443\\u0441\\u0442\\u0430\\u044f\", \"\\u0441\\u0432\\u044f\\u0437\\u0430\\u0442\\u044c \\u043e\\u043f\\u0435\\u0440\\u0430\\u0442\\u043e\\u0440\", \"\\u043e\\u043f\\u0435\\u0440\\u0430\\u0442\\u043e\\u0440\\u0430\", \"\\u043d\\u0443\\u0436\\u0435\\u043d\", \"\\u043f\\u043e\\u0441\\u0442\\u0430\\u043c\\u0430\\u0442\", \"\\u043f\\u043e\\u0436\\u0430\\u043b\\u0443\\u0439\\u0441\\u0442\\u0430\", \"\\u043f\\u0440\\u043e\\u0434\\u043b\\u0438\\u0442\\u044c\", \"\\u0437\\u0430\\u0431\\u0440\\u0430\\u0442\\u044c\", \"\\u0441\\u0440\\u043e\\u043a\"], \"Freq\": [305954.0, 427284.0, 404030.0, 317688.0, 291002.0, 288786.0, 252995.0, 401336.0, 207012.0, 182365.0, 177690.0, 133259.0, 118689.0, 76054.0, 54638.0, 47370.0, 44574.0, 72020.0, 113804.0, 44641.0, 43989.0, 35925.0, 43388.0, 29422.0, 29092.0, 43583.0, 26617.0, 32652.0, 23327.0, 29275.0, 43582.32193949482, 32158.87507499461, 25350.22454512939, 21104.706305393363, 20477.456749000474, 19126.950432209458, 15757.394724207197, 14818.32945247289, 13733.580844921365, 12878.085389560989, 13066.175116532457, 12601.748945377847, 12129.217090672717, 11954.324699416902, 11018.657297252954, 10385.115628331178, 10438.613397374114, 10218.692150049248, 9705.134047193902, 9540.954991856, 9278.418689665586, 9111.958502027039, 8882.114780011021, 9128.601365074272, 8841.478810283783, 8623.881200830381, 8144.60834900756, 7810.778612124447, 7840.461025056261, 7741.279427739371, 83257.99035420743, 21221.34159172206, 31518.05593712949, 21956.870869658615, 37114.2183147498, 21200.777911778627, 26533.175189797556, 18700.27178403776, 14996.494772681806, 69446.14258488377, 20375.49490093771, 12767.214116244937, 28779.022714473223, 15107.658432803193, 12340.562517072853, 317687.5230602776, 291002.16878129286, 288786.01679025544, 252994.43801290402, 43387.55189788225, 32651.71642173345, 29274.83096996594, 25235.001587328345, 13773.124794739215, 10664.628726734514, 8179.429107183594, 5069.966556123285, 4965.649831394767, 3990.556722963442, 3859.1705420182466, 3550.457983637234, 3258.5592167731397, 3218.9339402038445, 2871.5520140962826, 2893.908807995584, 2597.626765544772, 2518.831167914579, 2387.4198732138357, 2349.5911554098343, 2328.9190979748087, 2279.9242757436086, 2265.51109490174, 2265.51109490174, 2244.8382444007493, 2148.4451739028864, 375251.0000711963, 15867.927118969645, 319571.89854854957, 3511.4060937603936, 2342.674827131968, 2528.752687487892, 2377.4470687081407, 207011.65428042898, 182365.21204147208, 177690.00540455375, 133258.5866802958, 118688.32163052955, 44640.43315945295, 43988.664071592546, 21864.89230484221, 14788.24528157722, 14340.298140136249, 7430.534316472314, 7087.800723822561, 6899.571143267116, 6734.7231273495145, 5968.442248154173, 5481.200370547241, 5197.980651893234, 4752.785268761393, 4595.881965539004, 4504.759188610602, 4308.233825010522, 4089.5742674172984, 3614.4135865695926, 3283.9311385272613, 3279.5972355930153, 3209.9835705037794, 3224.9876374466903, 2877.7043313760105, 2848.40252868392, 2792.3295166009457, 357837.65970020514, 56912.2955735963, 81763.71447311927, 16574.029333778573, 30546.14686825848, 18103.997641444745, 6127.282025624901, 7757.613151445313, 5693.892197810831, 10894.691655931389, 4979.517581949156, 6248.33611069953, 5790.530131621072, 305953.2737832105, 76054.13352183391, 54637.509953907436, 47369.64446746935, 44573.58620987312, 35924.252140456854, 29091.86031432658, 29422.22532008855, 26616.663341648113, 23326.35056968747, 20468.401742925667, 17941.907954424096, 15082.280080207292, 14829.49756978378, 14146.790913464172, 12510.69329365592, 11215.841134208165, 11388.129428368504, 11084.026683454933, 10946.015511494137, 8471.797155231752, 8599.953326344013, 8019.535859000203, 7266.265210862843, 7274.142398838556, 6774.836548977638, 6230.63640490775, 5901.2099199654085, 5802.568720610257, 5643.115984910885, 5758.1566380435825, 18210.121237401116, 26034.807400428017, 13160.524399510403, 14060.990594994295, 12704.730432851546, 7971.24372911306], \"Total\": [305954.0, 427284.0, 404030.0, 317688.0, 291002.0, 288786.0, 252995.0, 401336.0, 207012.0, 182365.0, 177690.0, 133259.0, 118689.0, 76054.0, 54638.0, 47370.0, 44574.0, 72020.0, 113804.0, 44641.0, 43989.0, 35925.0, 43388.0, 29422.0, 29092.0, 43583.0, 26617.0, 32652.0, 23327.0, 29275.0, 43583.08836678116, 32159.642636007084, 25350.988350096664, 21105.470661434952, 20478.229338366702, 19127.714082328443, 15758.154571798657, 14819.103016106841, 13734.339118400016, 12878.846808934666, 13066.949418180056, 12602.509653183379, 12129.974474725972, 11955.085287459491, 11019.414553471814, 10385.87515596999, 10439.37941994637, 10219.448835478852, 9705.89598342969, 9541.713140685219, 9279.178920792598, 9112.716464538042, 8882.876427364694, 9129.385248982093, 8842.23955828647, 8624.639862347134, 8145.375827258419, 7811.536477426653, 7841.224705045191, 7742.051892389299, 113804.64569579264, 24148.49230370989, 42413.26421376864, 27891.427857668437, 55218.73558714999, 26991.817366596402, 43107.727979214615, 31405.514070238587, 22968.242178418204, 427284.314046243, 49902.711789731446, 22606.72532337989, 404030.5363758488, 72020.46586134128, 26402.06291947791, 317688.28283075144, 291002.9230146422, 288786.77251962514, 252995.19179793983, 43388.33242146813, 32652.48383902036, 29275.604022793064, 25235.768379366345, 13773.884105148267, 10665.4099343247, 8180.1965118868275, 5070.750544365645, 4966.445736201426, 3991.3245825750137, 3859.946860801809, 3551.239448387473, 3259.3310932273716, 3219.700915575199, 2872.311148973238, 2894.6818980470052, 2598.405111396729, 2519.59148161584, 2388.1733553468334, 2350.344602818171, 2329.672543376014, 2280.678802361439, 2266.2645424322395, 2266.2645424322395, 2245.5916897826555, 2149.2163528872543, 404030.5363758488, 16306.881852614788, 401336.1278193632, 4408.503095615243, 2527.876540257707, 11467.483265622785, 3544.2850774950907, 207012.40439887173, 182365.97142909933, 177690.75332305624, 133259.33546248215, 118689.06946664474, 44641.18808904657, 43989.42254024151, 21865.643329454324, 14789.015258240152, 14341.0520315249, 7431.300885373892, 7088.5495077432715, 6900.324551735897, 6735.482607532284, 5969.207422243078, 5481.965865837716, 5198.779018566276, 4753.550422535731, 4596.658651034197, 4505.533064050209, 4309.001029445264, 4090.350398652113, 3615.1714886622226, 3284.682507289405, 3280.350136592159, 3210.7465677709006, 3225.756275148959, 2878.4634237456403, 2849.1710950710867, 2793.085076369809, 427284.314046243, 72020.46586134128, 401336.1278193632, 43107.727979214615, 113804.64569579264, 55218.73558714999, 10054.789949526492, 15817.22309830081, 8824.876838521881, 42413.26421376864, 7191.164949823632, 22606.72532337989, 26991.817366596402, 305954.02995219326, 76054.88342823066, 54638.25930374527, 47370.397495129226, 44574.342583590755, 35925.00141789382, 29092.61374818991, 29422.99012248365, 26617.446969173656, 23327.110651863568, 20469.152077694525, 17942.678392247155, 15083.033500435044, 14830.24722764382, 14147.540981642558, 12511.451438892444, 11216.592306186314, 11388.898410068274, 11084.778666089, 10946.769109931694, 8472.548371631021, 8600.72018174955, 8020.285808608587, 7267.036640598857, 7274.926468904711, 6775.587309950966, 6231.38617232497, 5901.961190524523, 5803.324878606575, 5643.865196593631, 5758.934159081528, 25736.21939158249, 49902.711789731446, 21732.54438649805, 26402.06291947791, 31405.514070238587, 22968.242178418204], \"Category\": [\"Default\", \"Default\", \"Default\", \"Default\", \"Default\", \"Default\", \"Default\", \"Default\", \"Default\", \"Default\", \"Default\", \"Default\", \"Default\", \"Default\", \"Default\", \"Default\", \"Default\", \"Default\", \"Default\", \"Default\", \"Default\", \"Default\", \"Default\", \"Default\", \"Default\", \"Default\", \"Default\", \"Default\", \"Default\", \"Default\", \"Topic1\", \"Topic1\", \"Topic1\", \"Topic1\", \"Topic1\", \"Topic1\", \"Topic1\", \"Topic1\", \"Topic1\", \"Topic1\", \"Topic1\", \"Topic1\", \"Topic1\", \"Topic1\", \"Topic1\", \"Topic1\", \"Topic1\", \"Topic1\", \"Topic1\", \"Topic1\", \"Topic1\", \"Topic1\", \"Topic1\", \"Topic1\", \"Topic1\", \"Topic1\", \"Topic1\", \"Topic1\", \"Topic1\", \"Topic1\", \"Topic1\", \"Topic1\", \"Topic1\", \"Topic1\", \"Topic1\", \"Topic1\", \"Topic1\", \"Topic1\", \"Topic1\", \"Topic1\", \"Topic1\", \"Topic1\", \"Topic1\", \"Topic1\", \"Topic1\", \"Topic2\", \"Topic2\", \"Topic2\", \"Topic2\", \"Topic2\", \"Topic2\", \"Topic2\", \"Topic2\", \"Topic2\", \"Topic2\", \"Topic2\", \"Topic2\", \"Topic2\", \"Topic2\", \"Topic2\", \"Topic2\", \"Topic2\", \"Topic2\", \"Topic2\", \"Topic2\", \"Topic2\", \"Topic2\", \"Topic2\", \"Topic2\", \"Topic2\", \"Topic2\", \"Topic2\", \"Topic2\", \"Topic2\", \"Topic2\", \"Topic2\", \"Topic2\", \"Topic2\", \"Topic2\", \"Topic2\", \"Topic2\", \"Topic2\", \"Topic3\", \"Topic3\", \"Topic3\", \"Topic3\", \"Topic3\", \"Topic3\", \"Topic3\", \"Topic3\", \"Topic3\", \"Topic3\", \"Topic3\", \"Topic3\", \"Topic3\", \"Topic3\", \"Topic3\", \"Topic3\", \"Topic3\", \"Topic3\", \"Topic3\", \"Topic3\", \"Topic3\", \"Topic3\", \"Topic3\", \"Topic3\", \"Topic3\", \"Topic3\", \"Topic3\", \"Topic3\", \"Topic3\", \"Topic3\", \"Topic3\", \"Topic3\", \"Topic3\", \"Topic3\", \"Topic3\", \"Topic3\", \"Topic3\", \"Topic3\", \"Topic3\", \"Topic3\", \"Topic3\", \"Topic3\", \"Topic3\", \"Topic4\", \"Topic4\", \"Topic4\", \"Topic4\", \"Topic4\", \"Topic4\", \"Topic4\", \"Topic4\", \"Topic4\", \"Topic4\", \"Topic4\", \"Topic4\", \"Topic4\", \"Topic4\", \"Topic4\", \"Topic4\", \"Topic4\", \"Topic4\", \"Topic4\", \"Topic4\", \"Topic4\", \"Topic4\", \"Topic4\", \"Topic4\", \"Topic4\", \"Topic4\", \"Topic4\", \"Topic4\", \"Topic4\", \"Topic4\", \"Topic4\", \"Topic4\", \"Topic4\", \"Topic4\", \"Topic4\", \"Topic4\", \"Topic4\"], \"logprob\": [30.0, 29.0, 28.0, 27.0, 26.0, 25.0, 24.0, 23.0, 22.0, 21.0, 20.0, 19.0, 18.0, 17.0, 16.0, 15.0, 14.0, 13.0, 12.0, 11.0, 10.0, 9.0, 8.0, 7.0, 6.0, 5.0, 4.0, 3.0, 2.0, 1.0, -4.1505, -4.4545, -4.6924, -4.8757, -4.9059, -4.9741, -5.1679, -5.2293, -5.3053, -5.3697, -5.3552, -5.3913, -5.4296, -5.4441, -5.5256, -5.5848, -5.5797, -5.601, -5.6525, -5.6696, -5.6975, -5.7156, -5.7411, -5.7138, -5.7457, -5.7706, -5.8278, -5.8697, -5.8659, -5.8786, -3.5032, -4.8702, -4.4746, -4.8361, -4.3112, -4.8711, -4.6468, -4.9966, -5.2174, -3.6846, -4.9108, -5.3783, -4.5655, -5.21, -5.4123, -1.9668, -2.0546, -2.0622, -2.1945, -3.9577, -4.242, -4.3512, -4.4997, -5.1052, -5.361, -5.6263, -6.1046, -6.1253, -6.344, -6.3774, -6.4608, -6.5466, -6.5588, -6.673, -6.6653, -6.7733, -6.8041, -6.8577, -6.8736, -6.8825, -6.9037, -6.9101, -6.9101, -6.9193, -6.9631, -1.8003, -4.9636, -1.9609, -6.4719, -6.8766, -6.8002, -6.8619, -2.268, -2.3948, -2.4208, -2.7085, -2.8243, -3.8022, -3.8169, -4.5159, -4.907, -4.9377, -5.5952, -5.6424, -5.6693, -5.6935, -5.8143, -5.8995, -5.9525, -6.0421, -6.0756, -6.0957, -6.1403, -6.1924, -6.3159, -6.4118, -6.4131, -6.4345, -6.4299, -6.5438, -6.554, -6.5739, -1.7207, -3.5593, -3.197, -4.793, -4.1816, -4.7047, -5.788, -5.5521, -5.8614, -5.2125, -5.9955, -5.7685, -5.8446, -1.6056, -2.9976, -3.3284, -3.4711, -3.5319, -3.7477, -3.9586, -3.9473, -4.0475, -4.1795, -4.3102, -4.4419, -4.6156, -4.6325, -4.6796, -4.8025, -4.9118, -4.8965, -4.9236, -4.9361, -5.1923, -5.1773, -5.2472, -5.3458, -5.3448, -5.4159, -5.4996, -5.5539, -5.5708, -5.5986, -5.5785, -4.4271, -4.0696, -4.7519, -4.6857, -4.7871, -5.2532], \"loglift\": [30.0, 29.0, 28.0, 27.0, 26.0, 25.0, 24.0, 23.0, 22.0, 21.0, 20.0, 19.0, 18.0, 17.0, 16.0, 15.0, 14.0, 13.0, 12.0, 11.0, 10.0, 9.0, 8.0, 7.0, 6.0, 5.0, 4.0, 3.0, 2.0, 1.0, 1.1297, 1.1297, 1.1297, 1.1297, 1.1297, 1.1297, 1.1297, 1.1297, 1.1297, 1.1297, 1.1297, 1.1297, 1.1297, 1.1297, 1.1297, 1.1297, 1.1297, 1.1297, 1.1297, 1.1297, 1.1297, 1.1297, 1.1297, 1.1297, 1.1297, 1.1297, 1.1297, 1.1297, 1.1297, 1.1296, 0.8172, 1.0005, 0.8328, 0.8905, 0.7324, 0.8883, 0.6444, 0.6113, 0.7035, -0.6872, 0.234, 0.5584, -1.5121, -0.432, 0.3692, 1.327, 1.327, 1.327, 1.327, 1.327, 1.327, 1.327, 1.327, 1.327, 1.327, 1.3269, 1.3269, 1.3269, 1.3268, 1.3268, 1.3268, 1.3268, 1.3268, 1.3268, 1.3268, 1.3267, 1.3267, 1.3267, 1.3267, 1.3267, 1.3267, 1.3267, 1.3267, 1.3267, 1.3267, 1.2531, 1.2998, 1.0992, 1.0995, 1.251, -0.1847, 0.9277, 1.4541, 1.4541, 1.4541, 1.4541, 1.4541, 1.4541, 1.4541, 1.4541, 1.4541, 1.4541, 1.454, 1.454, 1.454, 1.454, 1.454, 1.454, 1.454, 1.454, 1.454, 1.454, 1.454, 1.4539, 1.4539, 1.4539, 1.4539, 1.4539, 1.4539, 1.4539, 1.4539, 1.4539, 1.2768, 1.2187, -0.1368, 0.4983, 0.1389, 0.339, 0.9588, 0.7417, 1.016, 0.0949, 1.0866, 0.1682, -0.0852, 1.7258, 1.7258, 1.7258, 1.7258, 1.7258, 1.7258, 1.7258, 1.7258, 1.7258, 1.7258, 1.7258, 1.7258, 1.7258, 1.7258, 1.7258, 1.7258, 1.7258, 1.7258, 1.7258, 1.7258, 1.7258, 1.7258, 1.7258, 1.7257, 1.7257, 1.7257, 1.7257, 1.7257, 1.7257, 1.7257, 1.7257, 1.3799, 1.0752, 1.2243, 1.0958, 0.8208, 0.6676]}, \"token.table\": {\"Topic\": [2, 3, 4, 4, 1, 4, 2, 2, 2, 1, 2, 1, 3, 1, 3, 3, 1, 1, 1, 1, 1, 4, 4, 1, 3, 3, 1, 3, 1, 4, 1, 1, 2, 2, 1, 3, 3, 3, 2, 2, 2, 2, 2, 2, 2, 1, 1, 3, 3, 3, 3, 3, 3, 1, 3, 1, 3, 3, 1, 1, 1, 4, 4, 1, 2, 4, 2, 2, 4, 4, 4, 2, 3, 4, 4, 4, 4, 1, 3, 3, 2, 4, 4, 1, 2, 4, 2, 1, 2, 3, 1, 1, 2, 3, 2, 3, 2, 2, 1, 2, 2, 3, 1, 3, 2, 1, 3, 4, 1, 3, 1, 1, 3, 3, 1, 1, 1, 1, 1, 4, 3, 1, 4, 1, 1, 4, 4, 4, 4, 2, 4, 4, 4, 4, 4, 4, 2, 2, 1, 1, 2, 2, 2, 2, 4, 4, 4, 4, 2, 2, 4, 1, 4, 4, 1, 3, 3, 3, 1, 3, 3, 3, 1, 2, 3, 3, 3, 3, 1, 1, 3, 4, 3, 4, 1, 1, 1, 1, 4, 3], \"Freq\": [0.6706571136427703, 0.060378890332163586, 0.26888356302127053, 0.9999621911382278, 0.9999626676598484, 0.99998320766172, 0.9998533820028953, 0.9998832693945096, 0.9998916729570371, 0.999925260728896, 0.9999991097224332, 0.6721269439685764, 0.32785973469868807, 0.30746061527266544, 0.6925164468828013, 0.9997977248640114, 0.9999753087209299, 0.9999092195970672, 0.9999750277728829, 0.9999538600469285, 0.5954368381990932, 0.4045467930117369, 0.9999211152794655, 0.16252878403695434, 0.8374704809811316, 0.999767478449282, 0.7431165835561483, 0.25687718693585365, 0.8787712182238332, 0.12120839525664011, 0.9999636549328167, 0.07122976460677313, 0.9287689078305787, 0.9999968281602376, 0.6155044871024865, 0.38447862545647354, 0.9998501535526911, 0.9998238103152494, 0.9998984168168555, 0.99965098146563, 0.9995086808316463, 0.9997113142025362, 0.9997365105217713, 0.9994340481889502, 0.9998832693945096, 0.9999076866853694, 0.20977370556151295, 0.7902198259807272, 0.9999903945035622, 0.9999705780687707, 0.9999224795224084, 0.9998567109102068, 0.9995889699031719, 0.509507892119556, 0.4904780031100032, 0.3546791708567638, 0.6452214692838381, 0.9997655510570388, 0.9999196639095983, 0.9999610133505245, 0.2924283433199796, 0.707563132056448, 0.9999617614366157, 0.7872311203301543, 0.07629584296864637, 0.13645769658771997, 0.999910250463792, 0.9997823041352045, 0.9999966336374343, 0.9998377895881905, 0.9999523879369313, 0.9997546958971315, 0.9998842081209192, 0.9999639179439214, 0.9999352766597525, 0.9999314792720566, 0.9999471937492114, 0.3905601230570643, 0.6093613124447754, 0.9998932624331003, 0.9268648854825563, 0.07318395382598075, 0.9999162649482449, 0.3098578739902947, 0.08457362227415528, 0.6055894683080292, 0.9997644307488621, 0.7794212376829301, 0.2205366200604308, 0.9998390030799706, 0.9998729498803007, 0.9998598139896234, 0.7962702030748543, 0.20372947844057798, 0.9997023682770515, 0.9999733858103373, 0.9999973249480286, 0.9999952892466796, 0.026859825438041503, 0.9730860960064898, 0.999765247017163, 0.9999266419560722, 0.999957801213161, 0.9997676887430698, 0.9999358129383464, 0.4082944447157798, 0.06997615710171795, 0.5217151346343719, 0.731587005881589, 0.26840732039754756, 0.9999342480777023, 0.9999800173150443, 0.9996759521184827, 0.9997922151416795, 0.9999273420176605, 0.9999776995527604, 0.9999267317887132, 0.9999255679574099, 0.46742559616034873, 0.5325720207123137, 0.9999143352969886, 0.9999595593895657, 0.999944018538791, 0.9998438120202827, 0.9999157359435918, 0.9999663486790592, 0.9999297535735755, 0.9998573502996991, 0.9998726490351935, 0.9998440922876298, 0.9999437163938129, 0.9999158997402622, 0.999964364286335, 0.9998467014070157, 0.9999916087862833, 0.9999721247639722, 0.9999793677086015, 0.9999695519726289, 0.9999213775013378, 0.999901335184401, 0.9998519855474889, 0.9999186779806306, 0.9999615641285966, 0.9998537306670947, 0.999988384332592, 0.9999952541726517, 0.9998371404871205, 0.9999380278618126, 0.9999923384594527, 0.9999851821679863, 0.9999789036421677, 0.6529015099854175, 0.34704440758160593, 0.9999133196984852, 0.9999560802655723, 0.999998046499325, 0.9999957604825116, 0.9999313505177713, 0.7854602641998163, 0.21454650205090026, 0.9999946731887988, 0.9999529657288634, 0.20347042534509466, 0.7964154552805209, 0.9996115133122907, 0.9999974826342861, 0.9999909893417351, 0.999928348485119, 0.999864132609298, 0.5647434476852938, 0.2763779322579867, 0.1588465356495567, 0.9999595110763871, 0.9999297409195379, 0.999962379719013, 0.9999313224193214, 0.9999258099633902, 0.9999399685223567, 0.9999923143321718, 0.9998816867965165], \"Term\": [\"\\u0430\\u0431\\u043e\\u043d\\u0435\\u043d\\u0442\", \"\\u0430\\u0431\\u043e\\u043d\\u0435\\u043d\\u0442\", \"\\u0430\\u0431\\u043e\\u043d\\u0435\\u043d\\u0442\", \"\\u0430\\u0432\\u0442\\u043e\\u043c\\u0430\\u0442\", \"\\u0430\\u0434\\u0440\\u0435\\u0441\", \"\\u0430\\u043b\\u043b\\u043e\", \"\\u0431\\u044d\\u043a\", \"\\u0431\\u044d\\u043a \\u043b\\u044d\\u0439\\u0442\\u0435\\u0440\", \"\\u0432\\u0435\\u0440\\u043d\\u043e\", \"\\u0432\\u043e\\u0441\\u0435\\u043c\\u044c\", \"\\u0432\\u044b\\u0434\\u0430\\u0447\\u0430\", \"\\u0432\\u044b\\u0434\\u0430\\u0447\\u0438\", \"\\u0432\\u044b\\u0434\\u0430\\u0447\\u0438\", \"\\u0432\\u044b\\u0434\\u0430\\u0447\\u0438 \\u0437\\u0430\\u043a\\u0430\\u0437\", \"\\u0432\\u044b\\u0434\\u0430\\u0447\\u0438 \\u0437\\u0430\\u043a\\u0430\\u0437\", \"\\u0432\\u044b\\u0434\\u0430\\u0447\\u0438 \\u043f\\u043e\\u043b\\u0443\\u0447\\u0438\\u0442\\u044c\", \"\\u0434\\u0432\\u0430\\u0434\\u0446\\u0430\\u0442\\u044c\", \"\\u0434\\u0435\\u0432\\u044f\\u0442\\u044c\", \"\\u0434\\u043e\\u0441\\u0442\\u0430\\u0432\\u043a\\u0430\", \"\\u0434\\u043e\\u0441\\u0442\\u0430\\u0432\\u043a\\u0438\", \"\\u0437\\u0430\\u0431\\u0440\\u0430\\u0442\\u044c\", \"\\u0437\\u0430\\u0431\\u0440\\u0430\\u0442\\u044c\", \"\\u0437\\u0430\\u0431\\u0440\\u0430\\u0442\\u044c \\u0437\\u0430\\u043a\\u0430\\u0437\", \"\\u0437\\u0430\\u043a\\u0430\\u0437\", \"\\u0437\\u0430\\u043a\\u0430\\u0437\", \"\\u0437\\u0430\\u043a\\u0430\\u0437 \\u043f\\u043e\\u0441\\u0442\\u0430\\u043c\\u0430\\u0442\", \"\\u0437\\u0430\\u043a\\u0430\\u0437\\u0430\", \"\\u0437\\u0430\\u043a\\u0430\\u0437\\u0430\", \"\\u0437\\u0434\\u0440\\u0430\\u0432\\u0441\\u0442\\u0432\\u0443\\u0439\\u0442\\u0435\", \"\\u0437\\u0434\\u0440\\u0430\\u0432\\u0441\\u0442\\u0432\\u0443\\u0439\\u0442\\u0435\", \"\\u0438\\u0437\\u043c\\u0435\\u043d\\u0438\\u0442\\u044c\", \"\\u043a\\u043e\\u0434\", \"\\u043a\\u043e\\u0434\", \"\\u043a\\u043e\\u0434 \\u0432\\u044b\\u0434\\u0430\\u0447\\u0430\", \"\\u043a\\u043e\\u0434 \\u0432\\u044b\\u0434\\u0430\\u0447\\u0438\", \"\\u043a\\u043e\\u0434 \\u0432\\u044b\\u0434\\u0430\\u0447\\u0438\", \"\\u043a\\u043e\\u0434 \\u0432\\u044b\\u0434\\u0430\\u0447\\u0438 \\u0437\\u0430\\u043a\\u0430\\u0437\", \"\\u043a\\u043e\\u0434 \\u0432\\u044b\\u0434\\u0430\\u0447\\u0438 \\u043f\\u043e\\u043b\\u0443\\u0447\\u0438\\u0442\\u044c\", \"\\u043a\\u043e\\u0434 \\u0437\\u0430\\u043a\\u0430\\u0437\", \"\\u043a\\u043e\\u0434 \\u043f\\u043e\\u043b\\u0443\\u0447\\u0435\\u043d\\u0438\\u0435\", \"\\u043a\\u043e\\u043b\", \"\\u043a\\u043e\\u043b \\u0431\\u044d\\u043a\", \"\\u043a\\u043e\\u043b \\u0431\\u044d\\u043a \\u043b\\u044d\\u0439\\u0442\\u0435\\u0440\", \"\\u043a\\u043e\\u043d\\u0441\\u0443\\u043b\\u044c\\u0442\\u0430\\u0446\\u0438\\u044f\", \"\\u043b\\u044d\\u0439\\u0442\\u0435\\u0440\", \"\\u043c\\u0430\\u0433\\u0430\\u0437\\u0438\\u043d\", \"\\u043c\\u043e\\u0433\\u0443\", \"\\u043c\\u043e\\u0433\\u0443\", \"\\u043c\\u043e\\u0433\\u0443 \\u043f\\u043e\\u043b\\u0443\\u0447\\u0438\\u0442\\u044c\", \"\\u043c\\u043e\\u0433\\u0443 \\u043f\\u043e\\u043b\\u0443\\u0447\\u0438\\u0442\\u044c \\u0437\\u0430\\u043a\\u0430\\u0437\", \"\\u043c\\u043e\\u0433\\u0443 \\u043f\\u043e\\u043b\\u0443\\u0447\\u0438\\u0442\\u044c \\u043f\\u043e\\u0441\\u044b\\u043b\\u043a\\u0430\", \"\\u043c\\u043e\\u0433\\u0443 \\u043f\\u043e\\u043b\\u0443\\u0447\\u0438\\u0442\\u044c \\u043f\\u043e\\u0441\\u044b\\u043b\\u043a\\u0443\", \"\\u043c\\u043e\\u0436\\u0435\\u043c \\u043f\\u043e\\u043b\\u0443\\u0447\\u0438\\u0442\\u044c\", \"\\u043d\\u0430\\u0439\\u0442\\u0438\", \"\\u043d\\u0430\\u0439\\u0442\\u0438\", \"\\u043d\\u0430\\u0445\\u043e\\u0434\\u0438\\u0442\\u0441\\u044f\", \"\\u043d\\u0430\\u0445\\u043e\\u0434\\u0438\\u0442\\u0441\\u044f\", \"\\u043d\\u0435\\u0432\\u043e\\u0437\\u043c\\u043e\\u0436\\u043d\\u043e\", \"\\u043d\\u043e\\u043b\\u044c\", \"\\u043d\\u043e\\u043c\\u0435\\u0440\", \"\\u043d\\u0443\\u0436\\u0435\\u043d\", \"\\u043d\\u0443\\u0436\\u0435\\u043d\", \"\\u043d\\u0443\\u0436\\u0435\\u043d \\u043e\\u043f\\u0435\\u0440\\u0430\\u0442\\u043e\\u0440\", \"\\u043d\\u0443\\u0436\\u043d\\u043e\", \"\\u043d\\u0443\\u0436\\u043d\\u043e\", \"\\u043d\\u0443\\u0436\\u043d\\u043e\", \"\\u043d\\u0443\\u0436\\u043d\\u043e \\u043f\\u043e\\u043b\\u0443\\u0447\\u0438\\u0442\\u044c\", \"\\u043d\\u0443\\u0436\\u043d\\u043e \\u043f\\u043e\\u043b\\u0443\\u0447\\u0438\\u0442\\u044c \\u043a\\u043e\\u0434\", \"\\u043e\\u043f\\u0435\\u0440\\u0430\\u0442\\u043e\\u0440\", \"\\u043e\\u043f\\u0435\\u0440\\u0430\\u0442\\u043e\\u0440\\u0430\", \"\\u043e\\u043f\\u0435\\u0440\\u0430\\u0442\\u043e\\u0440\\u043e\\u043c\", \"\\u043e\\u043f\\u0435\\u0440\\u0430\\u0442\\u043e\\u0440\\u043e\\u043c \\u0441\\u043e\\u0435\\u0434\\u0438\\u043d\\u0438\\u0442\\u044c\", \"\\u043e\\u043f\\u043b\\u0430\\u0442\\u0438\\u0442\\u044c\", \"\\u043e\\u0442\\u043a\\u0440\\u044b\\u0432\\u0430\\u0435\\u0442\\u0441\\u044f\", \"\\u043e\\u0442\\u043a\\u0440\\u044b\\u0432\\u0430\\u0435\\u0442\\u0441\\u044f \\u044f\\u0447\\u0435\\u0439\\u043a\\u0430\", \"\\u043e\\u0442\\u043a\\u0440\\u044b\\u043b\\u0430\\u0441\\u044c\", \"\\u043e\\u0442\\u043a\\u0440\\u044b\\u043b\\u0430\\u0441\\u044c \\u044f\\u0447\\u0435\\u0439\\u043a\\u0430\", \"\\u043e\\u0442\\u043f\\u0440\\u0430\\u0432\\u0438\\u0442\\u044c\", \"\\u043e\\u0442\\u043f\\u0440\\u0430\\u0432\\u0438\\u0442\\u044c\", \"\\u043e\\u0442\\u043f\\u0440\\u0430\\u0432\\u0438\\u0442\\u044c \\u0437\\u0430\\u043a\\u0430\\u0437\", \"\\u043f\\u043b\\u0438\\u0437\", \"\\u043f\\u043b\\u0438\\u0437\", \"\\u043f\\u043e\\u0436\\u0430\\u043b\\u0443\\u0439\\u0441\\u0442\", \"\\u043f\\u043e\\u0436\\u0430\\u043b\\u0443\\u0439\\u0441\\u0442\\u0430\", \"\\u043f\\u043e\\u0436\\u0430\\u043b\\u0443\\u0439\\u0441\\u0442\\u0430\", \"\\u043f\\u043e\\u0436\\u0430\\u043b\\u0443\\u0439\\u0441\\u0442\\u0430\", \"\\u043f\\u043e\\u0437\\u043e\\u0432\\u0438\", \"\\u043f\\u043e\\u043b\\u0443\\u0447\\u0435\\u043d\\u0438\\u0435\", \"\\u043f\\u043e\\u043b\\u0443\\u0447\\u0435\\u043d\\u0438\\u0435\", \"\\u043f\\u043e\\u043b\\u0443\\u0447\\u0435\\u043d\\u0438\\u0435\\u043c\", \"\\u043f\\u043e\\u043b\\u0443\\u0447\\u0435\\u043d\\u0438\\u044f\", \"\\u043f\\u043e\\u043b\\u0443\\u0447\\u0438\\u0442\\u0441\\u044f\", \"\\u043f\\u043e\\u043b\\u0443\\u0447\\u0438\\u0442\\u044c\", \"\\u043f\\u043e\\u043b\\u0443\\u0447\\u0438\\u0442\\u044c\", \"\\u043f\\u043e\\u043b\\u0443\\u0447\\u0438\\u0442\\u044c \\u0432\\u044b\\u0434\\u0430\\u0447\\u0430\", \"\\u043f\\u043e\\u043b\\u0443\\u0447\\u0438\\u0442\\u044c \\u0437\\u0430\\u043a\\u0430\\u0437\", \"\\u043f\\u043e\\u043b\\u0443\\u0447\\u0438\\u0442\\u044c \\u043a\\u043e\\u0434\", \"\\u043f\\u043e\\u043b\\u0443\\u0447\\u0438\\u0442\\u044c \\u043a\\u043e\\u0434 \\u0432\\u044b\\u0434\\u0430\\u0447\\u0430\", \"\\u043f\\u043e\\u043b\\u0443\\u0447\\u0438\\u0442\\u044c \\u043a\\u043e\\u0434 \\u0432\\u044b\\u0434\\u0430\\u0447\\u0438\", \"\\u043f\\u043e\\u043b\\u0443\\u0447\\u0438\\u0442\\u044c \\u043a\\u043e\\u0434 \\u0432\\u044b\\u0434\\u0430\\u0447\\u0438\", \"\\u043f\\u043e\\u043b\\u0443\\u0447\\u0438\\u0442\\u044c \\u043a\\u043e\\u0434 \\u0434\\u043e\\u0441\\u0442\\u0430\\u0432\\u043a\\u0430\", \"\\u043f\\u043e\\u043b\\u0443\\u0447\\u0438\\u0442\\u044c \\u043f\\u043e\\u0441\\u044b\\u043b\\u043a\\u0430\", \"\\u043f\\u043e\\u043b\\u0443\\u0447\\u0438\\u0442\\u044c \\u043f\\u043e\\u0441\\u044b\\u043b\\u043a\\u0443\", \"\\u043f\\u043e\\u043b\\u0443\\u0447\\u0438\\u0442\\u044c \\u0442\\u043e\\u0432\\u0430\\u0440\", \"\\u043f\\u043e\\u043b\\u0443\\u0447\\u0438\\u0442\\u044c\\u0441\\u044f\", \"\\u043f\\u043e\\u0441\\u0442\\u0430\\u043c\\u0430\\u0442\", \"\\u043f\\u043e\\u0441\\u0442\\u0430\\u043c\\u0430\\u0442\", \"\\u043f\\u043e\\u0441\\u0442\\u0430\\u043c\\u0430\\u0442\", \"\\u043f\\u043e\\u0441\\u044b\\u043b\\u043a\\u0430\", \"\\u043f\\u043e\\u0441\\u044b\\u043b\\u043a\\u0430\", \"\\u043f\\u043e\\u0441\\u044b\\u043b\\u043a\\u0438\", \"\\u043f\\u043e\\u0441\\u044b\\u043b\\u043a\\u0443\", \"\\u043f\\u043e\\u0442\\u0435\\u0440\\u044f\\u043b\\u0430\\u0441\\u044c\", \"\\u043f\\u043e\\u0442\\u0435\\u0440\\u044f\\u043b\\u0430\\u0441\\u044c \\u043f\\u043e\\u0441\\u044b\\u043b\\u043a\\u0430\", \"\\u043f\\u043e\\u0447\\u0435\\u043c\\u0443\", \"\\u043f\\u0440\\u0438\\u0448\\u0435\\u043b\", \"\\u043f\\u0440\\u0438\\u0448\\u043b\\u0430\", \"\\u043f\\u0440\\u043e\\u0431\\u043b\\u0435\\u043c\\u0430\", \"\\u043f\\u0440\\u043e\\u0434\\u043b\\u0438\\u0442\\u044c\", \"\\u043f\\u0440\\u043e\\u0434\\u043b\\u0438\\u0442\\u044c\", \"\\u043f\\u0440\\u043e\\u0434\\u043b\\u0438\\u0442\\u044c \\u0437\\u0430\\u043a\\u0430\\u0437\", \"\\u043f\\u0443\\u043d\\u043a\\u0442\", \"\\u043f\\u0443\\u0441\\u0442\\u0430\\u044f\", \"\\u043f\\u044f\\u0442\\u0435\\u0440\\u043e\\u0447\\u043a\\u0430\", \"\\u043f\\u044f\\u0442\\u044c\", \"\\u0440\\u0430\\u0431\\u043e\\u0442\\u0430\\u0435\\u0442\", \"\\u0440\\u0430\\u0431\\u043e\\u0442\\u0430\\u0435\\u0442 \\u043f\\u043e\\u0441\\u0442\\u0430\\u043c\\u0430\\u0442\", \"\\u0440\\u0430\\u0431\\u043e\\u0442\\u0430\\u0442\\u044c\", \"\\u0441\\u0432\\u043e\\u0439\", \"\\u0441\\u0432\\u044f\\u0436\\u0438\", \"\\u0441\\u0432\\u044f\\u0436\\u0438\\u0442\\u0435\", \"\\u0441\\u0432\\u044f\\u0436\\u0438\\u0442\\u0435 \\u043e\\u043f\\u0435\\u0440\\u0430\\u0442\\u043e\\u0440\", \"\\u0441\\u0432\\u044f\\u0437\\u0430\\u0442\\u044c\", \"\\u0441\\u0432\\u044f\\u0437\\u0430\\u0442\\u044c \\u043e\\u043f\\u0435\\u0440\\u0430\\u0442\\u043e\\u0440\", \"\\u0441\\u0432\\u044f\\u0437\\u0430\\u0442\\u044c\\u0441\\u044f\", \"\\u0441\\u0432\\u044f\\u0437\\u0430\\u0442\\u044c\\u0441\\u044f \\u043e\\u043f\\u0435\\u0440\\u0430\\u0442\\u043e\\u0440\", \"\\u0441\\u0432\\u044f\\u0437\\u044c\", \"\\u0441\\u0432\\u044f\\u0437\\u044c \\u043e\\u043f\\u0435\\u0440\\u0430\\u0442\\u043e\\u0440\", \"\\u0441\\u0435\\u0433\\u043e\\u0434\\u043d\\u044f\", \"\\u0441\\u043c\\u0441\", \"\\u0441\\u043e\\u0435\\u0434\\u0438\\u043d\\u0435\\u043d\\u0438\\u0435\", \"\\u0441\\u043e\\u0435\\u0434\\u0438\\u043d\\u0435\\u043d\\u0438\\u0435 \\u043e\\u043f\\u0435\\u0440\\u0430\\u0442\\u043e\\u0440\", \"\\u0441\\u043e\\u0435\\u0434\\u0438\\u043d\\u0438\", \"\\u0441\\u043e\\u0435\\u0434\\u0438\\u043d\\u0438 \\u043e\\u043f\\u0435\\u0440\\u0430\\u0442\\u043e\\u0440\", \"\\u0441\\u043e\\u0435\\u0434\\u0438\\u043d\\u0438\\u0442\\u0435\", \"\\u0441\\u043e\\u0435\\u0434\\u0438\\u043d\\u0438\\u0442\\u0435 \\u043e\\u043f\\u0435\\u0440\\u0430\\u0442\\u043e\\u0440\", \"\\u0441\\u043e\\u0435\\u0434\\u0438\\u043d\\u0438\\u0442\\u0435 \\u043e\\u043f\\u0435\\u0440\\u0430\\u0442\\u043e\\u0440\\u043e\\u043c\", \"\\u0441\\u043e\\u0435\\u0434\\u0438\\u043d\\u0438\\u0442\\u0435 \\u0441\\u043f\\u0435\\u0446\\u0438\\u0430\\u043b\\u0438\\u0441\\u0442\", \"\\u0441\\u043e\\u0435\\u0434\\u0438\\u043d\\u0438\\u0442\\u044c\", \"\\u0441\\u043e\\u0435\\u0434\\u0438\\u043d\\u0438\\u0442\\u044c \\u043e\\u043f\\u0435\\u0440\\u0430\\u0442\\u043e\\u0440\", \"\\u0441\\u043f\\u0435\\u0446\\u0438\\u0430\\u043b\\u0438\\u0441\\u0442\", \"\\u0441\\u0440\\u043e\\u043a\", \"\\u0441\\u0440\\u043e\\u043a\", \"\\u0441\\u0440\\u043e\\u043a \\u0445\\u0440\\u0430\\u043d\\u0435\\u043d\\u0438\\u0435\", \"\\u0441\\u0440\\u043e\\u043a \\u0445\\u0440\\u0430\\u043d\\u0435\\u043d\\u0438\\u044f\", \"\\u0441\\u0442\\u0430\\u0442\\u0443\\u0441\", \"\\u0441\\u0442\\u0430\\u0442\\u0443\\u0441 \\u0437\\u0430\\u043a\\u0430\\u0437\", \"\\u0441\\u0442\\u0430\\u0442\\u0443\\u0441 \\u0437\\u0430\\u043a\\u0430\\u0437\\u0430\", \"\\u0442\\u043e\\u0432\\u0430\\u0440\", \"\\u0442\\u043e\\u0432\\u0430\\u0440\", \"\\u0443\\u0437\\u043d\\u0430\\u0442\\u044c\", \"\\u0443\\u0437\\u043d\\u0430\\u0442\\u044c \\u0437\\u0430\\u043a\\u0430\\u0437\", \"\\u0443\\u0437\\u043d\\u0430\\u0442\\u044c \\u043a\\u043e\\u0434\", \"\\u0443\\u0437\\u043d\\u0430\\u0442\\u044c \\u043a\\u043e\\u0434\", \"\\u0443\\u0437\\u043d\\u0430\\u0442\\u044c \\u043d\\u0430\\u0445\\u043e\\u0434\\u0438\\u0442\\u0441\\u044f\", \"\\u0443\\u0437\\u043d\\u0430\\u0442\\u044c \\u0441\\u0442\\u0430\\u0442\\u0443\\u0441\", \"\\u0443\\u0437\\u043d\\u0430\\u0442\\u044c \\u0441\\u0442\\u0430\\u0442\\u0443\\u0441 \\u0437\\u0430\\u043a\\u0430\\u0437\", \"\\u0443\\u0437\\u043d\\u0430\\u0442\\u044c \\u0441\\u0442\\u0430\\u0442\\u0443\\u0441 \\u0437\\u0430\\u043a\\u0430\\u0437\\u0430\", \"\\u0445\\u043e\\u0442\\u0435\\u043b\\u0430\", \"\\u0445\\u043e\\u0447\\u0443\", \"\\u0445\\u043e\\u0447\\u0443\", \"\\u0445\\u043e\\u0447\\u0443\", \"\\u0445\\u043e\\u0447\\u0443 \\u0443\\u0437\\u043d\\u0430\\u0442\\u044c\", \"\\u0445\\u0440\\u0430\\u043d\\u0435\\u043d\\u0438\\u0435\", \"\\u0445\\u0440\\u0430\\u043d\\u0435\\u043d\\u0438\\u044f\", \"\\u0447\\u0435\\u0442\\u044b\\u0440\\u0435\", \"\\u0448\\u0435\\u0441\\u0442\\u044c\", \"\\u044d\\u0442\\u043e\", \"\\u044f\\u0447\\u0435\\u0439\\u043a\\u0430\", \"\\u044f\\u0449\\u0438\\u043a\"]}, \"R\": 30, \"lambda.step\": 0.01, \"plot.opts\": {\"xlab\": \"PC1\", \"ylab\": \"PC2\"}, \"topic.order\": [2, 3, 1, 4]};\n",
              "\n",
              "function LDAvis_load_lib(url, callback){\n",
              "  var s = document.createElement('script');\n",
              "  s.src = url;\n",
              "  s.async = true;\n",
              "  s.onreadystatechange = s.onload = callback;\n",
              "  s.onerror = function(){console.warn(\"failed to load library \" + url);};\n",
              "  document.getElementsByTagName(\"head\")[0].appendChild(s);\n",
              "}\n",
              "\n",
              "if(typeof(LDAvis) !== \"undefined\"){\n",
              "   // already loaded: just create the visualization\n",
              "   !function(LDAvis){\n",
              "       new LDAvis(\"#\" + \"ldavis_el1721388266787101443964301640\", ldavis_el1721388266787101443964301640_data);\n",
              "   }(LDAvis);\n",
              "}else if(typeof define === \"function\" && define.amd){\n",
              "   // require.js is available: use it to load d3/LDAvis\n",
              "   require.config({paths: {d3: \"https://d3js.org/d3.v5\"}});\n",
              "   require([\"d3\"], function(d3){\n",
              "      window.d3 = d3;\n",
              "      LDAvis_load_lib(\"https://cdn.jsdelivr.net/gh/bmabey/pyLDAvis@3.4.0/pyLDAvis/js/ldavis.v3.0.0.js\", function(){\n",
              "        new LDAvis(\"#\" + \"ldavis_el1721388266787101443964301640\", ldavis_el1721388266787101443964301640_data);\n",
              "      });\n",
              "    });\n",
              "}else{\n",
              "    // require.js not available: dynamically load d3 & LDAvis\n",
              "    LDAvis_load_lib(\"https://d3js.org/d3.v5.js\", function(){\n",
              "         LDAvis_load_lib(\"https://cdn.jsdelivr.net/gh/bmabey/pyLDAvis@3.4.0/pyLDAvis/js/ldavis.v3.0.0.js\", function(){\n",
              "                 new LDAvis(\"#\" + \"ldavis_el1721388266787101443964301640\", ldavis_el1721388266787101443964301640_data);\n",
              "            })\n",
              "         });\n",
              "}\n",
              "</script>"
            ],
            "text/plain": [
              "PreparedData(topic_coordinates=               x          y  topics  cluster       Freq\n",
              "topic                                                  \n",
              "1      14.261856 -73.563354       1        1  32.311481\n",
              "2      43.724983  16.129807       2        1  26.526075\n",
              "0     -46.390301  43.981197       3        1  23.360264\n",
              "3     -75.836456 -45.801773       4        1  17.802180, topic_info=           Term           Freq          Total Category  logprob  loglift\n",
              "10     оператор  305954.000000  305954.000000  Default  30.0000  30.0000\n",
              "2         заказ  427284.000000  427284.000000  Default  29.0000  29.0000\n",
              "29          код  404030.000000  404030.000000  Default  28.0000  28.0000\n",
              "30       выдача  317688.000000  317688.000000  Default  27.0000  27.0000\n",
              "32   код выдача  291002.000000  291002.000000  Default  26.0000  26.0000\n",
              "..          ...            ...            ...      ...      ...      ...\n",
              "7      постамат   26034.807400   49902.711790   Topic4  -4.0696   1.0752\n",
              "215  пожалуйста   13160.524400   21732.544386   Topic4  -4.7519   1.2243\n",
              "172    продлить   14060.990595   26402.062919   Topic4  -4.6857   1.0958\n",
              "36      забрать   12704.730433   31405.514070   Topic4  -4.7871   0.8208\n",
              "63         срок    7971.243729   22968.242178   Topic4  -5.2532   0.6676\n",
              "\n",
              "[192 rows x 6 columns], token_table=      Topic      Freq     Term\n",
              "term                          \n",
              "1356      2  0.670657  абонент\n",
              "1356      3  0.060379  абонент\n",
              "1356      4  0.268884  абонент\n",
              "332       4  0.999962  автомат\n",
              "478       1  0.999963    адрес\n",
              "...     ...       ...      ...\n",
              "614       1  0.999931   четыре\n",
              "740       1  0.999926    шесть\n",
              "58        1  0.999940      это\n",
              "191       4  0.999992   ячейка\n",
              "178       3  0.999882     ящик\n",
              "\n",
              "[180 rows x 3 columns], R=30, lambda_step=0.01, plot_opts={'xlab': 'PC1', 'ylab': 'PC2'}, topic_order=[2, 3, 1, 4])"
            ]
          },
          "execution_count": 13,
          "metadata": {},
          "output_type": "execute_result"
        }
      ],
      "source": [
        "pannel"
      ]
    },
    {
      "cell_type": "markdown",
      "id": "B2MhhgVv1gzl",
      "metadata": {
        "id": "B2MhhgVv1gzl"
      },
      "source": [
        "## Когерентность"
      ]
    },
    {
      "cell_type": "code",
      "execution_count": null,
      "id": "L6ViUN5Y1mSL",
      "metadata": {
        "colab": {
          "background_save": true
        },
        "id": "L6ViUN5Y1mSL",
        "outputId": "0673c1e6-e392-49a0-e387-7adcbc879532"
      },
      "outputs": [
        {
          "name": "stderr",
          "output_type": "stream",
          "text": [
            "/usr/local/lib/python3.10/dist-packages/ipykernel/ipkernel.py:283: DeprecationWarning: `should_run_async` will not call `transform_cell` automatically in the future. Please pass the result to `transformed_cell` argument and any exception that happen during thetransform in `preprocessing_exc_tuple` in IPython 7.17 and above.\n",
            "  and should_run_async(code)\n"
          ]
        }
      ],
      "source": [
        "def get_coherence_mean(model, texts, n_top_words=20):\n",
        "  # кол-во тем\n",
        "  topics = []\n",
        "  for i in range(model.num_topics):\n",
        "    if i == 0:\n",
        "      topics .append(1)\n",
        "    else:\n",
        "      topics .append(i+1)\n",
        "  topics = np.array(topics)\n",
        "  # получение токенов\n",
        "  text =  [[word for word in doc.split()] for doc in texts]\n",
        "  # создание словаря с использованием gensim\n",
        "  dictinoary = corpora.Dictionary(text)\n",
        "  # корпус на основе матрицы подсчета слов\n",
        "  corpus = [dictinoary.doc2bow(text) for text in text]\n",
        "  feature_names = [dictinoary[i] for i in range(len(dictinoary))]\n",
        "\n",
        "  # получение топ-слов для каждой темы\n",
        "  top_words = []\n",
        "  for topic in topics:\n",
        "    top_words.append(\n",
        "        [feature_names[i] for i in topics.argsort()[:-20 -1: -1]])\n",
        "  print(top_words[0])\n",
        "\n",
        "  coherence_model = CoherenceModel(topics=top_words,\n",
        "                                  texts=text,\n",
        "                                  dictionary=dictinoary,\n",
        "                                  coherence='c_v')\n",
        "  coherence = coherence_model.get_coherence()\n",
        "  return coherence"
      ]
    },
    {
      "cell_type": "code",
      "execution_count": null,
      "id": "Y2oBA6y46Fff",
      "metadata": {
        "colab": {
          "background_save": true
        },
        "id": "Y2oBA6y46Fff",
        "outputId": "9117f200-939c-42f2-f6bd-44bfaf4979d8"
      },
      "outputs": [
        {
          "name": "stderr",
          "output_type": "stream",
          "text": [
            "/usr/local/lib/python3.10/dist-packages/ipykernel/ipkernel.py:283: DeprecationWarning: `should_run_async` will not call `transform_cell` automatically in the future. Please pass the result to `transformed_cell` argument and any exception that happen during thetransform in `preprocessing_exc_tuple` in IPython 7.17 and above.\n",
            "  and should_run_async(code)\n"
          ]
        },
        {
          "name": "stdout",
          "output_type": "stream",
          "text": [
            "['постамат', 'узнать', 'статус', 'заказ']\n"
          ]
        },
        {
          "data": {
            "text/plain": [
              "0.615755848139168"
            ]
          },
          "execution_count": 15,
          "metadata": {},
          "output_type": "execute_result"
        }
      ],
      "source": [
        "get_coherence_mean(lda_model, test_lst)\n"
      ]
    },
    {
      "cell_type": "markdown",
      "id": "KeW5vaaH9R_q",
      "metadata": {
        "id": "KeW5vaaH9R_q"
      },
      "source": [
        "## Анализ тем и разметка данных"
      ]
    },
    {
      "cell_type": "code",
      "execution_count": null,
      "id": "flPu158T21Aa",
      "metadata": {
        "colab": {
          "base_uri": "https://localhost:8080/"
        },
        "id": "flPu158T21Aa",
        "outputId": "e891f226-a9c9-4383-f027-81608b340ddb"
      },
      "outputs": [
        {
          "name": "stderr",
          "output_type": "stream",
          "text": [
            "/usr/local/lib/python3.10/dist-packages/ipykernel/ipkernel.py:283: DeprecationWarning: `should_run_async` will not call `transform_cell` automatically in the future. Please pass the result to `transformed_cell` argument and any exception that happen during thetransform in `preprocessing_exc_tuple` in IPython 7.17 and above.\n",
            "  and should_run_async(code)\n"
          ]
        }
      ],
      "source": [
        "def predict_topics(data, vectorizer=vector_ben, model=lda_model):\n",
        "  # transform_text = get_results(data.tolist())\n",
        "  dt = data.tolist()\n",
        "  transform_text = [get_results([i]) for i in dt]\n",
        "  vec_text = vectorizer.transform(transform_text)\n",
        "  corpus = Sparse2Corpus(vec_text , documents_columns=False)\n",
        "  topic_proba = lda_model.get_document_topics(corpus)\n",
        "  return topic_proba\n",
        "  # if not topic_proba:\n",
        "  #   return -9\n",
        "  # return max(topic_proba[1], key=lambda x: x[1])[0]+1\n"
      ]
    },
    {
      "cell_type": "code",
      "execution_count": null,
      "id": "LV8RfiB8YjjU",
      "metadata": {
        "colab": {
          "base_uri": "https://localhost:8080/"
        },
        "id": "LV8RfiB8YjjU",
        "outputId": "681d7d44-aae0-43c4-ce5e-5d9f1e09f54f"
      },
      "outputs": [
        {
          "name": "stderr",
          "output_type": "stream",
          "text": [
            "/usr/local/lib/python3.10/dist-packages/ipykernel/ipkernel.py:283: DeprecationWarning: `should_run_async` will not call `transform_cell` automatically in the future. Please pass the result to `transformed_cell` argument and any exception that happen during thetransform in `preprocessing_exc_tuple` in IPython 7.17 and above.\n",
            "  and should_run_async(code)\n"
          ]
        }
      ],
      "source": [
        "df_topics = X_train.copy()\n",
        "topics = predict_topics(df_topics)"
      ]
    },
    {
      "cell_type": "code",
      "execution_count": null,
      "id": "sWr-vlJqY564",
      "metadata": {
        "colab": {
          "base_uri": "https://localhost:8080/"
        },
        "id": "sWr-vlJqY564",
        "outputId": "6c6a0fd0-9e6f-4c0e-94c1-cc8cfc228c71"
      },
      "outputs": [
        {
          "name": "stdout",
          "output_type": "stream",
          "text": [
            "True\n",
            "84969\n",
            "(84969,)\n"
          ]
        },
        {
          "name": "stderr",
          "output_type": "stream",
          "text": [
            "/usr/local/lib/python3.10/dist-packages/ipykernel/ipkernel.py:283: DeprecationWarning: `should_run_async` will not call `transform_cell` automatically in the future. Please pass the result to `transformed_cell` argument and any exception that happen during thetransform in `preprocessing_exc_tuple` in IPython 7.17 and above.\n",
            "  and should_run_async(code)\n"
          ]
        }
      ],
      "source": [
        "df_topics = X_train.copy()\n",
        "print(len(topics)==df_topics.shape[0])\n",
        "print(len(topics))\n",
        "print(df_topics.shape)\n"
      ]
    },
    {
      "cell_type": "code",
      "execution_count": null,
      "id": "K5Ki2_QaZiI4",
      "metadata": {
        "colab": {
          "base_uri": "https://localhost:8080/"
        },
        "id": "K5Ki2_QaZiI4",
        "outputId": "185cb89f-60e1-4a67-c2df-82dfacc4b4d0"
      },
      "outputs": [
        {
          "name": "stderr",
          "output_type": "stream",
          "text": [
            "/usr/local/lib/python3.10/dist-packages/ipykernel/ipkernel.py:283: DeprecationWarning: `should_run_async` will not call `transform_cell` automatically in the future. Please pass the result to `transformed_cell` argument and any exception that happen during thetransform in `preprocessing_exc_tuple` in IPython 7.17 and above.\n",
            "  and should_run_async(code)\n"
          ]
        }
      ],
      "source": [
        "topics_prob = []\n",
        "for i in topics:\n",
        "  top = max(i, key=lambda x: x[1])[0]+1\n",
        "  topics_prob.append(top)"
      ]
    },
    {
      "cell_type": "code",
      "execution_count": null,
      "id": "jK1GAaHQadsi",
      "metadata": {
        "colab": {
          "base_uri": "https://localhost:8080/"
        },
        "id": "jK1GAaHQadsi",
        "outputId": "db906d69-e1f4-4cd6-da0f-7916d79ab7ab"
      },
      "outputs": [
        {
          "name": "stderr",
          "output_type": "stream",
          "text": [
            "/usr/local/lib/python3.10/dist-packages/ipykernel/ipkernel.py:283: DeprecationWarning: `should_run_async` will not call `transform_cell` automatically in the future. Please pass the result to `transformed_cell` argument and any exception that happen during thetransform in `preprocessing_exc_tuple` in IPython 7.17 and above.\n",
            "  and should_run_async(code)\n"
          ]
        }
      ],
      "source": [
        "assigned_df = pd.DataFrame(df_topics).assign(topic=topics_prob)"
      ]
    },
    {
      "cell_type": "code",
      "execution_count": null,
      "id": "Mei1L4ZMZ48r",
      "metadata": {
        "colab": {
          "base_uri": "https://localhost:8080/",
          "height": 723
        },
        "id": "Mei1L4ZMZ48r",
        "outputId": "4bf95e4a-1eac-49dc-9c94-083137a47f55"
      },
      "outputs": [
        {
          "name": "stderr",
          "output_type": "stream",
          "text": [
            "/usr/local/lib/python3.10/dist-packages/ipykernel/ipkernel.py:283: DeprecationWarning: `should_run_async` will not call `transform_cell` automatically in the future. Please pass the result to `transformed_cell` argument and any exception that happen during thetransform in `preprocessing_exc_tuple` in IPython 7.17 and above.\n",
            "  and should_run_async(code)\n"
          ]
        },
        {
          "data": {
            "application/vnd.google.colaboratory.intrinsic+json": {
              "summary": "{\n  \"name\": \"assigned_df\",\n  \"rows\": 84969,\n  \"fields\": [\n    {\n      \"column\": \"text\",\n      \"properties\": {\n        \"dtype\": \"category\",\n        \"num_unique_values\": 29706,\n        \"samples\": [\n          \"\\u0430 \\u0432\\u0432\\u0435\\u0434\\u0435\\u043d \\u043a\\u043e\\u0434 \\u0432\\u044b\\u0434\\u0430\\u0447\\u0438 \\u0432 \\u0430\\u0432\\u0442\\u043e\\u043c\\u0430\\u0442 \\u0430\\u0432\\u0442\\u043e\\u043c\\u0430\\u0442 \\u043e\\u0442\\u043a\\u0440\\u044b\\u043b \\u044f\\u0447\\u0435\\u0439\\u043a\\u0443 \\u0432 \\u044f\\u0447\\u0435\\u0439\\u043a\\u0435 \\u043d\\u0435\\u0442 \\u0442\\u043e\\u0432\\u0430\\u0440\\u0430\",\n          \"\\u0437\\u0434\\u0440\\u0430\\u0432\\u0441\\u0442\\u0432\\u0443\\u0439\\u0442\\u0435 \\u043a\\u043e\\u0434 \\u0432\\u044b\\u0434\\u0430\\u0447\\u0438 \\u043e\\u0439 \\u0434\\u0430\\u0447\\u0438\",\n          \"\\u043c\\u043d\\u0435 \\u0443\\u0437\\u043d\\u0430\\u0442\\u044c \\u0430\\u0434\\u0440\\u0435\\u0441 \\u043f\\u043e\\u044d\\u0442\\u043e\\u043c\\u0443 \\u043c\\u044b \\u0432 \\u044d\\u0442\\u043e\\u043c \\u043c\\u0430\\u0433\\u0430\\u0437\\u0438\\u043d\\u0435 \\u044f \\u0438\\u043c\\u0435\\u044e \\u043f\\u0440\\u0430\\u0432\\u043e \\u043f\\u043e\\u043b\\u0443\\u0447\\u0438\\u0442\\u044c \\u0437\\u0430\\u043a\\u0430\\u0437\"\n        ],\n        \"semantic_type\": \"\",\n        \"description\": \"\"\n      }\n    },\n    {\n      \"column\": \"topic\",\n      \"properties\": {\n        \"dtype\": \"number\",\n        \"std\": 1,\n        \"min\": 1,\n        \"max\": 4,\n        \"num_unique_values\": 4,\n        \"samples\": [\n          2,\n          3,\n          1\n        ],\n        \"semantic_type\": \"\",\n        \"description\": \"\"\n      }\n    }\n  ]\n}",
              "type": "dataframe",
              "variable_name": "assigned_df"
            },
            "text/html": [
              "\n",
              "  <div id=\"df-fa6bcbe7-ad31-44fa-a87b-350ba54a4489\" class=\"colab-df-container\">\n",
              "    <div>\n",
              "<style scoped>\n",
              "    .dataframe tbody tr th:only-of-type {\n",
              "        vertical-align: middle;\n",
              "    }\n",
              "\n",
              "    .dataframe tbody tr th {\n",
              "        vertical-align: top;\n",
              "    }\n",
              "\n",
              "    .dataframe thead th {\n",
              "        text-align: right;\n",
              "    }\n",
              "</style>\n",
              "<table border=\"1\" class=\"dataframe\">\n",
              "  <thead>\n",
              "    <tr style=\"text-align: right;\">\n",
              "      <th></th>\n",
              "      <th>text</th>\n",
              "      <th>topic</th>\n",
              "    </tr>\n",
              "  </thead>\n",
              "  <tbody>\n",
              "    <tr>\n",
              "      <th>866871</th>\n",
              "      <td>да</td>\n",
              "      <td>1</td>\n",
              "    </tr>\n",
              "    <tr>\n",
              "      <th>1341780</th>\n",
              "      <td>я тебя не слышу</td>\n",
              "      <td>1</td>\n",
              "    </tr>\n",
              "    <tr>\n",
              "      <th>1528403</th>\n",
              "      <td>получить код доступа</td>\n",
              "      <td>2</td>\n",
              "    </tr>\n",
              "    <tr>\n",
              "      <th>314333</th>\n",
              "      <td>получить код выдачи</td>\n",
              "      <td>4</td>\n",
              "    </tr>\n",
              "    <tr>\n",
              "      <th>1659044</th>\n",
              "      <td>узнать статус заказа</td>\n",
              "      <td>1</td>\n",
              "    </tr>\n",
              "    <tr>\n",
              "      <th>440580</th>\n",
              "      <td>так не могу получить товар</td>\n",
              "      <td>3</td>\n",
              "    </tr>\n",
              "    <tr>\n",
              "      <th>1107957</th>\n",
              "      <td>получить код выдачи</td>\n",
              "      <td>4</td>\n",
              "    </tr>\n",
              "    <tr>\n",
              "      <th>938065</th>\n",
              "      <td>мне надо узнать статус заказа который возврати...</td>\n",
              "      <td>3</td>\n",
              "    </tr>\n",
              "    <tr>\n",
              "      <th>1462859</th>\n",
              "      <td>статус заказа</td>\n",
              "      <td>1</td>\n",
              "    </tr>\n",
              "    <tr>\n",
              "      <th>15801</th>\n",
              "      <td>я не могу получить посылку в банкомате</td>\n",
              "      <td>3</td>\n",
              "    </tr>\n",
              "    <tr>\n",
              "      <th>627379</th>\n",
              "      <td>когда будет готово обращение</td>\n",
              "      <td>1</td>\n",
              "    </tr>\n",
              "    <tr>\n",
              "      <th>107834</th>\n",
              "      <td>здравствуйте мне сделали доставку я не смог ее...</td>\n",
              "      <td>2</td>\n",
              "    </tr>\n",
              "    <tr>\n",
              "      <th>109775</th>\n",
              "      <td>у нас не работает</td>\n",
              "      <td>1</td>\n",
              "    </tr>\n",
              "    <tr>\n",
              "      <th>434998</th>\n",
              "      <td>получить код выдачи</td>\n",
              "      <td>4</td>\n",
              "    </tr>\n",
              "    <tr>\n",
              "      <th>1660293</th>\n",
              "      <td>получить заказ</td>\n",
              "      <td>3</td>\n",
              "    </tr>\n",
              "    <tr>\n",
              "      <th>734186</th>\n",
              "      <td>связаться с оператором</td>\n",
              "      <td>2</td>\n",
              "    </tr>\n",
              "    <tr>\n",
              "      <th>615393</th>\n",
              "      <td>пришло не на тот адрес</td>\n",
              "      <td>3</td>\n",
              "    </tr>\n",
              "    <tr>\n",
              "      <th>1005878</th>\n",
              "      <td>получить код выдачи</td>\n",
              "      <td>4</td>\n",
              "    </tr>\n",
              "    <tr>\n",
              "      <th>85804</th>\n",
              "      <td>оператор</td>\n",
              "      <td>1</td>\n",
              "    </tr>\n",
              "    <tr>\n",
              "      <th>796473</th>\n",
              "      <td>связь с оператором</td>\n",
              "      <td>1</td>\n",
              "    </tr>\n",
              "  </tbody>\n",
              "</table>\n",
              "</div>\n",
              "    <div class=\"colab-df-buttons\">\n",
              "\n",
              "  <div class=\"colab-df-container\">\n",
              "    <button class=\"colab-df-convert\" onclick=\"convertToInteractive('df-fa6bcbe7-ad31-44fa-a87b-350ba54a4489')\"\n",
              "            title=\"Convert this dataframe to an interactive table.\"\n",
              "            style=\"display:none;\">\n",
              "\n",
              "  <svg xmlns=\"http://www.w3.org/2000/svg\" height=\"24px\" viewBox=\"0 -960 960 960\">\n",
              "    <path d=\"M120-120v-720h720v720H120Zm60-500h600v-160H180v160Zm220 220h160v-160H400v160Zm0 220h160v-160H400v160ZM180-400h160v-160H180v160Zm440 0h160v-160H620v160ZM180-180h160v-160H180v160Zm440 0h160v-160H620v160Z\"/>\n",
              "  </svg>\n",
              "    </button>\n",
              "\n",
              "  <style>\n",
              "    .colab-df-container {\n",
              "      display:flex;\n",
              "      gap: 12px;\n",
              "    }\n",
              "\n",
              "    .colab-df-convert {\n",
              "      background-color: #E8F0FE;\n",
              "      border: none;\n",
              "      border-radius: 50%;\n",
              "      cursor: pointer;\n",
              "      display: none;\n",
              "      fill: #1967D2;\n",
              "      height: 32px;\n",
              "      padding: 0 0 0 0;\n",
              "      width: 32px;\n",
              "    }\n",
              "\n",
              "    .colab-df-convert:hover {\n",
              "      background-color: #E2EBFA;\n",
              "      box-shadow: 0px 1px 2px rgba(60, 64, 67, 0.3), 0px 1px 3px 1px rgba(60, 64, 67, 0.15);\n",
              "      fill: #174EA6;\n",
              "    }\n",
              "\n",
              "    .colab-df-buttons div {\n",
              "      margin-bottom: 4px;\n",
              "    }\n",
              "\n",
              "    [theme=dark] .colab-df-convert {\n",
              "      background-color: #3B4455;\n",
              "      fill: #D2E3FC;\n",
              "    }\n",
              "\n",
              "    [theme=dark] .colab-df-convert:hover {\n",
              "      background-color: #434B5C;\n",
              "      box-shadow: 0px 1px 3px 1px rgba(0, 0, 0, 0.15);\n",
              "      filter: drop-shadow(0px 1px 2px rgba(0, 0, 0, 0.3));\n",
              "      fill: #FFFFFF;\n",
              "    }\n",
              "  </style>\n",
              "\n",
              "    <script>\n",
              "      const buttonEl =\n",
              "        document.querySelector('#df-fa6bcbe7-ad31-44fa-a87b-350ba54a4489 button.colab-df-convert');\n",
              "      buttonEl.style.display =\n",
              "        google.colab.kernel.accessAllowed ? 'block' : 'none';\n",
              "\n",
              "      async function convertToInteractive(key) {\n",
              "        const element = document.querySelector('#df-fa6bcbe7-ad31-44fa-a87b-350ba54a4489');\n",
              "        const dataTable =\n",
              "          await google.colab.kernel.invokeFunction('convertToInteractive',\n",
              "                                                    [key], {});\n",
              "        if (!dataTable) return;\n",
              "\n",
              "        const docLinkHtml = 'Like what you see? Visit the ' +\n",
              "          '<a target=\"_blank\" href=https://colab.research.google.com/notebooks/data_table.ipynb>data table notebook</a>'\n",
              "          + ' to learn more about interactive tables.';\n",
              "        element.innerHTML = '';\n",
              "        dataTable['output_type'] = 'display_data';\n",
              "        await google.colab.output.renderOutput(dataTable, element);\n",
              "        const docLink = document.createElement('div');\n",
              "        docLink.innerHTML = docLinkHtml;\n",
              "        element.appendChild(docLink);\n",
              "      }\n",
              "    </script>\n",
              "  </div>\n",
              "\n",
              "\n",
              "<div id=\"df-4e1369c7-3787-4d8e-b6f8-6f1ef0e9242a\">\n",
              "  <button class=\"colab-df-quickchart\" onclick=\"quickchart('df-4e1369c7-3787-4d8e-b6f8-6f1ef0e9242a')\"\n",
              "            title=\"Suggest charts\"\n",
              "            style=\"display:none;\">\n",
              "\n",
              "<svg xmlns=\"http://www.w3.org/2000/svg\" height=\"24px\"viewBox=\"0 0 24 24\"\n",
              "     width=\"24px\">\n",
              "    <g>\n",
              "        <path d=\"M19 3H5c-1.1 0-2 .9-2 2v14c0 1.1.9 2 2 2h14c1.1 0 2-.9 2-2V5c0-1.1-.9-2-2-2zM9 17H7v-7h2v7zm4 0h-2V7h2v10zm4 0h-2v-4h2v4z\"/>\n",
              "    </g>\n",
              "</svg>\n",
              "  </button>\n",
              "\n",
              "<style>\n",
              "  .colab-df-quickchart {\n",
              "      --bg-color: #E8F0FE;\n",
              "      --fill-color: #1967D2;\n",
              "      --hover-bg-color: #E2EBFA;\n",
              "      --hover-fill-color: #174EA6;\n",
              "      --disabled-fill-color: #AAA;\n",
              "      --disabled-bg-color: #DDD;\n",
              "  }\n",
              "\n",
              "  [theme=dark] .colab-df-quickchart {\n",
              "      --bg-color: #3B4455;\n",
              "      --fill-color: #D2E3FC;\n",
              "      --hover-bg-color: #434B5C;\n",
              "      --hover-fill-color: #FFFFFF;\n",
              "      --disabled-bg-color: #3B4455;\n",
              "      --disabled-fill-color: #666;\n",
              "  }\n",
              "\n",
              "  .colab-df-quickchart {\n",
              "    background-color: var(--bg-color);\n",
              "    border: none;\n",
              "    border-radius: 50%;\n",
              "    cursor: pointer;\n",
              "    display: none;\n",
              "    fill: var(--fill-color);\n",
              "    height: 32px;\n",
              "    padding: 0;\n",
              "    width: 32px;\n",
              "  }\n",
              "\n",
              "  .colab-df-quickchart:hover {\n",
              "    background-color: var(--hover-bg-color);\n",
              "    box-shadow: 0 1px 2px rgba(60, 64, 67, 0.3), 0 1px 3px 1px rgba(60, 64, 67, 0.15);\n",
              "    fill: var(--button-hover-fill-color);\n",
              "  }\n",
              "\n",
              "  .colab-df-quickchart-complete:disabled,\n",
              "  .colab-df-quickchart-complete:disabled:hover {\n",
              "    background-color: var(--disabled-bg-color);\n",
              "    fill: var(--disabled-fill-color);\n",
              "    box-shadow: none;\n",
              "  }\n",
              "\n",
              "  .colab-df-spinner {\n",
              "    border: 2px solid var(--fill-color);\n",
              "    border-color: transparent;\n",
              "    border-bottom-color: var(--fill-color);\n",
              "    animation:\n",
              "      spin 1s steps(1) infinite;\n",
              "  }\n",
              "\n",
              "  @keyframes spin {\n",
              "    0% {\n",
              "      border-color: transparent;\n",
              "      border-bottom-color: var(--fill-color);\n",
              "      border-left-color: var(--fill-color);\n",
              "    }\n",
              "    20% {\n",
              "      border-color: transparent;\n",
              "      border-left-color: var(--fill-color);\n",
              "      border-top-color: var(--fill-color);\n",
              "    }\n",
              "    30% {\n",
              "      border-color: transparent;\n",
              "      border-left-color: var(--fill-color);\n",
              "      border-top-color: var(--fill-color);\n",
              "      border-right-color: var(--fill-color);\n",
              "    }\n",
              "    40% {\n",
              "      border-color: transparent;\n",
              "      border-right-color: var(--fill-color);\n",
              "      border-top-color: var(--fill-color);\n",
              "    }\n",
              "    60% {\n",
              "      border-color: transparent;\n",
              "      border-right-color: var(--fill-color);\n",
              "    }\n",
              "    80% {\n",
              "      border-color: transparent;\n",
              "      border-right-color: var(--fill-color);\n",
              "      border-bottom-color: var(--fill-color);\n",
              "    }\n",
              "    90% {\n",
              "      border-color: transparent;\n",
              "      border-bottom-color: var(--fill-color);\n",
              "    }\n",
              "  }\n",
              "</style>\n",
              "\n",
              "  <script>\n",
              "    async function quickchart(key) {\n",
              "      const quickchartButtonEl =\n",
              "        document.querySelector('#' + key + ' button');\n",
              "      quickchartButtonEl.disabled = true;  // To prevent multiple clicks.\n",
              "      quickchartButtonEl.classList.add('colab-df-spinner');\n",
              "      try {\n",
              "        const charts = await google.colab.kernel.invokeFunction(\n",
              "            'suggestCharts', [key], {});\n",
              "      } catch (error) {\n",
              "        console.error('Error during call to suggestCharts:', error);\n",
              "      }\n",
              "      quickchartButtonEl.classList.remove('colab-df-spinner');\n",
              "      quickchartButtonEl.classList.add('colab-df-quickchart-complete');\n",
              "    }\n",
              "    (() => {\n",
              "      let quickchartButtonEl =\n",
              "        document.querySelector('#df-4e1369c7-3787-4d8e-b6f8-6f1ef0e9242a button');\n",
              "      quickchartButtonEl.style.display =\n",
              "        google.colab.kernel.accessAllowed ? 'block' : 'none';\n",
              "    })();\n",
              "  </script>\n",
              "</div>\n",
              "    </div>\n",
              "  </div>\n"
            ],
            "text/plain": [
              "                                                      text  topic\n",
              "866871                                                  да      1\n",
              "1341780                                    я тебя не слышу      1\n",
              "1528403                               получить код доступа      2\n",
              "314333                                 получить код выдачи      4\n",
              "1659044                               узнать статус заказа      1\n",
              "440580                          так не могу получить товар      3\n",
              "1107957                                получить код выдачи      4\n",
              "938065   мне надо узнать статус заказа который возврати...      3\n",
              "1462859                                      статус заказа      1\n",
              "15801               я не могу получить посылку в банкомате      3\n",
              "627379                        когда будет готово обращение      1\n",
              "107834   здравствуйте мне сделали доставку я не смог ее...      2\n",
              "109775                                   у нас не работает      1\n",
              "434998                                 получить код выдачи      4\n",
              "1660293                                     получить заказ      3\n",
              "734186                              связаться с оператором      2\n",
              "615393                              пришло не на тот адрес      3\n",
              "1005878                                получить код выдачи      4\n",
              "85804                                             оператор      1\n",
              "796473                                  связь с оператором      1"
            ]
          },
          "execution_count": 38,
          "metadata": {},
          "output_type": "execute_result"
        }
      ],
      "source": [
        "assigned_df.head(20)"
      ]
    },
    {
      "cell_type": "code",
      "execution_count": null,
      "id": "5z9ZUtYpIG1w",
      "metadata": {
        "colab": {
          "base_uri": "https://localhost:8080/",
          "height": 525
        },
        "id": "5z9ZUtYpIG1w",
        "outputId": "5a9ff67b-bac4-4315-c351-7b0085376bd7"
      },
      "outputs": [
        {
          "name": "stderr",
          "output_type": "stream",
          "text": [
            "/usr/local/lib/python3.10/dist-packages/ipykernel/ipkernel.py:283: DeprecationWarning: `should_run_async` will not call `transform_cell` automatically in the future. Please pass the result to `transformed_cell` argument and any exception that happen during thetransform in `preprocessing_exc_tuple` in IPython 7.17 and above.\n",
            "  and should_run_async(code)\n"
          ]
        },
        {
          "data": {
            "text/plain": [
              "<Axes: xlabel='new_column', ylabel='count'>"
            ]
          },
          "execution_count": 33,
          "metadata": {},
          "output_type": "execute_result"
        },
        {
          "data": {
            "image/png": "[encoded data removed]",
            "text/plain": [
              "<Figure size 640x480 with 1 Axes>"
            ]
          },
          "metadata": {},
          "output_type": "display_data"
        }
      ],
      "source": [
        "import seaborn as sns\n",
        "sns.countplot(x='new_column', data=new_df)"
      ]
    }
  ],
  "metadata": {
    "accelerator": "TPU",
    "colab": {
      "gpuType": "V28",
      "provenance": []
    },
    "kernelspec": {
      "display_name": "Python 3",
      "name": "python3"
    },
    "language_info": {
      "codemirror_mode": {
        "name": "ipython",
        "version": 3
      },
      "file_extension": ".py",
      "mimetype": "text/x-python",
      "name": "python",
      "nbconvert_exporter": "python",
      "pygments_lexer": "ipython3",
      "version": "3.10.12"
    },
    "papermill": {
      "default_parameters": {},
      "duration": 7646.386716,
      "end_time": "2023-09-24T20:58:15.078298",
      "environment_variables": {},
      "exception": null,
      "input_path": "__notebook__.ipynb",
      "output_path": "__notebook__.ipynb",
      "parameters": {},
      "start_time": "2023-09-24T18:50:48.691582",
      "version": "2.4.0"
    }
  },
  "nbformat": 4,
  "nbformat_minor": 5
}